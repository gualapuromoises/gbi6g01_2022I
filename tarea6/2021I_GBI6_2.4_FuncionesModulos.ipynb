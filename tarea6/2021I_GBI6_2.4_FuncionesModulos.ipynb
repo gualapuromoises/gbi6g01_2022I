{
 "cells": [
  {
   "cell_type": "markdown",
   "metadata": {
    "id": "jZTL55MqWFtb"
   },
   "source": [
    "### <center><h2> INGENIERÍA EN BIOTECNOLOGÍA</h2></center>\n",
    "# <center><h1 style=\"color:red\">GBI6 - BIOINFORMÁTICA</h1></center>\n",
    "\n",
    "<img src=\"https://www.ikiam.edu.ec/img/logo-ikiam-grey.png\" width=400 height=300 />\n",
    "\n",
    "# FUNCIONES\n",
    "\n",
    "Al programar en ciencias en general y Bioinformática en particular, debe asegurarse que sus programas hagan exactamente y exclusivamente lo que deben hacer. Los errores no son simplemente características molestas y no deseadas; cualquier error en su código puede hacer que los resultados y las conclusiones de su investigación sean injustificados.\n",
    "\n",
    "Si se escribe programas complejos, se desea crear una estructura clara para el flujo del código. La mejor manera de lograr este objetivo es hacer que su código sea `modular`: **bloques de construcción simples, llamados funciones**. Las funciones son objetos que aceptan alguna `entrada` y devuelve alguna `salida`. Estos bloques para construir su programa complejo.\n",
    "\n",
    "<img src=\"https://cdn-images-1.medium.com/max/600/1*PjbvTSCPfBnrADeX4FIibg.png\" width=800 height=600 />\n",
    "\n",
    "Una estrategia para dividir un problema complejo en sus componentes básicos es escribir programas en los que cada **función sea muy corta y realice operaciones extremadamente básicas**. En este caso, es fácil ver lo que hace cada función, pero se puede perder de vista el programa general si hay muchas funciones. Alternativamente, se pueden escribir programas con solo un puñado de funciones, cada una de las cuales realiza una operación compleja. En este caso, comprender cada función requiere más esfuerzo, pero el flujo del programa general es mucho más simple.\n",
    "\n",
    "\n",
    "\n",
    "\n",
    "## Caracterísicas de una función:\n",
    "* Porciones de código, reutilizables.\n",
    "* Las funciones y su código no se ejecutan hasta que son llamadas o invocadas.\n",
    "* Estas son las principales: \n",
    "    * Tiene un nombre.\n",
    "    * Recibe unos parámetros obligatorios u opcionales.\n",
    "        * Puede no tener parámetros, tener parámetros obligatorios, parametros opcionales o ambos.\n",
    "    * Tiene documentación (opcional).\n",
    "    * Tiene un cuerpo (sentencias).\n",
    "        * Si el cuerpo de la función está vacío, hay que utilizar la sentencia `pass` (debido a la sintaxis de Python)\n",
    "    * Devuelve un valor (opcional).\n",
    "        * Si la función no devuelve ningún valor, por defecto siempre se devuelve `None`\n",
    "* Para definir una función se utiliza la keywod `def`.\n",
    "```python\n",
    "# Inicia la función\n",
    "def nombre_de_la_funcion(parametro1, parametro2=\"valor por defecto\"):\n",
    "    \"\"\"Docstring, Explicación\"\"\"\n",
    "    sentencia_1\n",
    "    sentencia_2\n",
    "    return valor\n",
    "# termina la función\n",
    "```\n",
    "\n",
    "<img src=\"https://www.learnbyexample.org/wp-content/uploads/python/Python-Function-Syntax.png\" width=600 height=450 />\n",
    "\n",
    "Algunos detalles adiconales de los componentes de una función. \n",
    "\n",
    "<img src=\"https://www.cs.cornell.edu/courses/cs1380/2018sp/textbook/images/function_definition.jpg\" width=800 height=800 />\n",
    "\n",
    "\n",
    "## Ejecutar una función\n",
    "\n",
    "* Una función se invoca llamándola mediante su nombre, pasando los parámetros entre paréntesis `()`\n",
    "\n",
    "```python\n",
    "# Ejecuta la función\n",
    "nombre_de_la_funcion(parametro1, parametro2=\"valor2\")\n",
    "``` \n",
    "* Según el [PEP8](https://www.python.org/dev/peps/pep-0008/), todas las funciones deberían dejar dos lineas en blanco respecto al código anterior.\n",
    "    * Pero no es un fallo de sintaxis\n",
    "* Se pueden definir funciones en cualquier lugar del código, incluso dentro de otras funciones"
   ]
  },
  {
   "cell_type": "code",
   "execution_count": null,
   "metadata": {
    "id": "XeeS7XMc9CFO"
   },
   "outputs": [],
   "source": [
    "def potencia(x, y):\n",
    "    z = x**y\n",
    "    return(z)"
   ]
  },
  {
   "cell_type": "code",
   "execution_count": null,
   "metadata": {},
   "outputs": [],
   "source": [
    "tatiana(5, 10)"
   ]
  },
  {
   "cell_type": "code",
   "execution_count": null,
   "metadata": {
    "id": "RDis_0lc9CFP",
    "outputId": "532cc318-1e1c-4654-921b-cd677a5ce081"
   },
   "outputs": [],
   "source": [
    "potencia(4,5)"
   ]
  },
  {
   "cell_type": "code",
   "execution_count": null,
   "metadata": {
    "id": "5AbQumj29CFR",
    "outputId": "b9bd3c2e-76f1-4e78-ff84-4a721c2e32ec"
   },
   "outputs": [],
   "source": [
    "potencia(2, potencia(3,2))"
   ]
  },
  {
   "cell_type": "code",
   "execution_count": null,
   "metadata": {},
   "outputs": [],
   "source": [
    "x = \"ANCNBDJHD\"\n",
    "?x.upper"
   ]
  },
  {
   "cell_type": "code",
   "execution_count": null,
   "metadata": {
    "id": "60T3xwMiAkr0"
   },
   "outputs": [],
   "source": [
    "# predefinir valores\n",
    "def potencia(x=2, y=3):\n",
    "  \"\"\"\n",
    "  Potencia: eleva a la base x al exponente y\n",
    "  x: valor numérico de base\n",
    "  y: valor numérico de exponente\n",
    "  \"\"\"\n",
    "  z = x**y\n",
    "  return(z)"
   ]
  },
  {
   "cell_type": "code",
   "execution_count": null,
   "metadata": {
    "id": "7SoH5LGxBDoa"
   },
   "outputs": [],
   "source": [
    "?potencia"
   ]
  },
  {
   "cell_type": "code",
   "execution_count": null,
   "metadata": {
    "colab": {
     "base_uri": "https://localhost:8080/"
    },
    "executionInfo": {
     "elapsed": 16,
     "status": "ok",
     "timestamp": 1657304591803,
     "user": {
      "displayName": "Moises Ruben Gualapuro Gualapuro",
      "userId": "00783441233645351804"
     },
     "user_tz": 300
    },
    "id": "eHr5sCDeDQln",
    "outputId": "a3041890-b1a2-48f4-9cbe-ca98fa9bd9fc"
   },
   "outputs": [],
   "source": [
    "potencia()"
   ]
  },
  {
   "cell_type": "code",
   "execution_count": null,
   "metadata": {
    "colab": {
     "background_save": true
    },
    "id": "-aP0c1mfDmIl",
    "outputId": "7ab46c05-6680-4e24-dac1-11db6b25efa9"
   },
   "outputs": [],
   "source": [
    "potencia(y=5, x=10)"
   ]
  },
  {
   "cell_type": "code",
   "execution_count": null,
   "metadata": {
    "id": "eZ0bO6YNWFtj"
   },
   "outputs": [],
   "source": [
    "# Sin argumento alguno\n",
    "\n",
    "def funcionvacia():\n",
    "    pass\n",
    "\n",
    "funcionvacia()"
   ]
  },
  {
   "cell_type": "code",
   "execution_count": null,
   "metadata": {
    "id": "fqnQRhX0WFtm"
   },
   "outputs": [],
   "source": [
    "def test(parametro1, parametro2=\"valor por defecto \"):\n",
    "    \"\"\"Explicacion de la funcion.\"\"\"\n",
    "    a = parametro1 * parametro2\n",
    "    return a"
   ]
  },
  {
   "cell_type": "code",
   "execution_count": null,
   "metadata": {
    "id": "Bqb8V5XrWFtn",
    "outputId": "4bfdfc24-36cc-4f22-dc64-fde1bada8608"
   },
   "outputs": [],
   "source": [
    "test(2, int(True))"
   ]
  },
  {
   "cell_type": "code",
   "execution_count": null,
   "metadata": {
    "id": "94tjAp5kWFto",
    "outputId": "515a4e2a-7a59-4e17-8258-abcfb38eddc7"
   },
   "outputs": [],
   "source": [
    "lista1 = [\"DNA\", \"Proteina\", \"Hola\", \"Bioinformatica\"]\n",
    "lista2 = [\"Guanina\", \"Proteina\", \"IKiam\", \"Bioinformatica\"]\n",
    "lista3 = [\"MAria\", \"Bryan\", \"Damaris\", \"Jefferson\"]\n",
    "lista4 = [\"Tena\", \"Quito\", \"Guayaquil\", \"Manta\"]\n",
    "lista5 = [\"DNA\", \"Proteina\", \"Hola\", \"Bioinformatica\"]\n",
    "lista6 = [\"Guanina\", \"Proteina\", \"IKiam\", \"Bioinformatica\"]\n",
    "lista7 = [\"MAria\", \"Bryan\", \"Damaris\", \"Jefferson\"]\n",
    "lista8 = [\"Tena\", \"Quito\", \"Guayaquil\", \"Manta\"]\n",
    "print(\"Lista1\")\n",
    "for i in range(len(lista1)): \n",
    "    a = 2* len(lista1[i])\n",
    "    print(a)\n",
    "print(\"Lista2\")\n",
    "for i in range(len(lista2)): \n",
    "    a = 2* len(lista2[i])\n",
    "    print(a)\n",
    "print(\"Lista3\")\n",
    "for i in range(len(lista3)): \n",
    "    a = 2* len(lista3[i])\n",
    "    print(a)\n",
    "print(\"Lista4\")\n",
    "for i in range(len(lista4)): \n",
    "    a = 2* len(lista4[i])\n",
    "    print(a)\n",
    "print(\"Lista5\")\n",
    "for i in range(len(lista5)): \n",
    "    a = 2* len(lista5[i])\n",
    "    print(a)\n",
    "print(\"Lista6\")\n",
    "for i in range(len(lista6)): \n",
    "    a = 2* len(lista6[i])\n",
    "    print(a)\n",
    "print(\"Lista7\")\n",
    "for i in range(len(lista7)): \n",
    "    a = 2* len(lista7[i])\n",
    "    print(a)\n",
    "print(\"Lista8\")\n",
    "for i in range(len(lista8)): \n",
    "    a = 2* len(lista8[i])\n",
    "    print(a)"
   ]
  },
  {
   "cell_type": "code",
   "execution_count": null,
   "metadata": {
    "id": "UDUzHCVoWFtp"
   },
   "outputs": [],
   "source": [
    "def doble_caracteres(lista):\n",
    "    \"\"\"\n",
    "    La función doble_caracteres recibe un argumento que es una lista\n",
    "    y retorna el doble de la longitud de cada elemento de la lista. \n",
    "    :param lista: lista de elementos\n",
    "    \"\"\"\n",
    "    b = []\n",
    "    for i in range(len(lista)):\n",
    "        a = 2* len(lista[i])\n",
    "        b.append(a)\n",
    "    return b"
   ]
  },
  {
   "cell_type": "code",
   "execution_count": null,
   "metadata": {
    "id": "HLIE_I4YWFtp",
    "outputId": "8ef55e45-d91d-43c4-a6d2-d4cd0019ce74"
   },
   "outputs": [],
   "source": [
    "help(doble_caracteres)"
   ]
  },
  {
   "cell_type": "code",
   "execution_count": null,
   "metadata": {
    "id": "DoAbp7pjWFtq",
    "outputId": "b4ed7fec-ef7f-4796-e2e6-d45a85a0f5fd"
   },
   "outputs": [],
   "source": [
    "l1 = doble_caracteres(lista1)\n",
    "l2 = doble_caracteres(lista2)\n",
    "l3 = doble_caracteres(lista3)\n",
    "l4 = doble_caracteres(lista4)\n",
    "l5 = doble_caracteres(lista5)\n",
    "l6 = doble_caracteres(lista6)\n",
    "l7 = doble_caracteres(lista7)\n",
    "l8 = doble_caracteres(lista8)\n",
    "listas_res = [l1, l2, l3, l4, l5, l6, l7, l8]\n",
    "listas_res"
   ]
  },
  {
   "cell_type": "code",
   "execution_count": null,
   "metadata": {
    "colab": {
     "background_save": true
    },
    "id": "QEQmzg8TWFtr"
   },
   "outputs": [],
   "source": [
    "listas = [lista1, lista2, lista3, lista4, lista5, lista6, lista7, lista8]\n",
    "dobles = [doble_caracteres(x) for x in listas] # List Comprehension"
   ]
  },
  {
   "cell_type": "code",
   "execution_count": null,
   "metadata": {
    "id": "lswh6fR3WFtr",
    "outputId": "a59e1ba4-0903-4b3b-9699-b0158af106a0"
   },
   "outputs": [],
   "source": [
    "dobles"
   ]
  },
  {
   "cell_type": "code",
   "execution_count": null,
   "metadata": {
    "id": "VcNquuDQWFts",
    "outputId": "e3347592-967e-45b7-d56c-f4bfa6e5c7c4"
   },
   "outputs": [],
   "source": [
    "help(doble_caracteres)"
   ]
  },
  {
   "cell_type": "code",
   "execution_count": null,
   "metadata": {
    "id": "PXeiNErHWFts",
    "outputId": "f26fc855-2279-41d5-d3bc-d6925bf4ee42"
   },
   "outputs": [],
   "source": [
    "help(enumerate)"
   ]
  },
  {
   "cell_type": "code",
   "execution_count": null,
   "metadata": {
    "id": "rSDwW_GmWFtt"
   },
   "outputs": [],
   "source": [
    "def multiplo_caracteres(lista, multiplo = 2):\n",
    "    \"\"\"\n",
    "    La función doble_caracteres recibe un argumento que es una lista\n",
    "    y retorna el el doble de la longitud de cada elemento de la lista. \n",
    "    :param lista: lista de elementos\n",
    "    \"\"\"\n",
    "    b = []\n",
    "    for i in range(len(lista)):\n",
    "        a = multiplo* len(lista[i])\n",
    "        b.append(a)\n",
    "    return b"
   ]
  },
  {
   "cell_type": "code",
   "execution_count": null,
   "metadata": {
    "id": "o9ST3DppWFtt",
    "outputId": "61643a89-bf1c-47d3-d671-07f48fe22c58"
   },
   "outputs": [],
   "source": [
    "%whos"
   ]
  },
  {
   "cell_type": "code",
   "execution_count": null,
   "metadata": {
    "id": "2JRCrfldWFtt",
    "outputId": "a2b3082c-f06d-4074-90a6-f19dd5e7395a"
   },
   "outputs": [],
   "source": [
    "listas = [lista1, lista2, lista3, lista4, lista5, lista6, lista7, lista8]\n",
    "multipls = range(2, 100)\n",
    "\n",
    "# Iteracione individuales \n",
    "simples = [multiplo_caracteres(x, 1) for x in listas]\n",
    "dobles = [multiplo_caracteres(x, 2) for x in listas]\n",
    "triples = [multiplo_caracteres(x, 3) for x in listas]\n",
    "cuadruples = [multiplo_caracteres(x, 4) for x in listas]\n",
    "print(simples)\n",
    "print(dobles)\n",
    "print(triples)\n",
    "print(cuadruples)\n",
    "\n",
    "# iteraciones con bucle\n",
    "#for i in multipls: \n",
    "#   multiplos_car = [multiplo_caracteres(x, i) for x in listas]\n",
    "    \n"
   ]
  },
  {
   "cell_type": "code",
   "execution_count": null,
   "metadata": {
    "id": "m1hhMhSxWFtu",
    "outputId": "55d56344-68e2-4614-8847-174b14964ad4"
   },
   "outputs": [],
   "source": [
    "multiplox = [multiplo_caracteres(x) for x in listas]\n",
    "multiplox\n",
    "help(multiplo_caracteres)"
   ]
  },
  {
   "cell_type": "code",
   "execution_count": null,
   "metadata": {
    "id": "fYKcGdg9WFtu",
    "outputId": "fb9d7a8a-4a01-49f4-faab-c618c357645a"
   },
   "outputs": [],
   "source": [
    "multiy = [multiplo_caracteres(multiplo = 17, lista = x) for x in listas]\n",
    "multiy"
   ]
  },
  {
   "cell_type": "code",
   "execution_count": null,
   "metadata": {},
   "outputs": [],
   "source": [
    "nombre = \"Mateo\"\n",
    "def nombres(apellido):\n",
    "    persona = nombre + apellido\n",
    "    return persona\n"
   ]
  },
  {
   "cell_type": "code",
   "execution_count": null,
   "metadata": {},
   "outputs": [],
   "source": []
  },
  {
   "cell_type": "code",
   "execution_count": null,
   "metadata": {},
   "outputs": [],
   "source": [
    "n1 = nombres(\" Fernandez\")\n",
    "n1"
   ]
  },
  {
   "cell_type": "code",
   "execution_count": null,
   "metadata": {
    "id": "RjppDRM6WFtv"
   },
   "outputs": [],
   "source": [
    "# Con argumentos pero no retorna elemento alguno\n",
    "\n",
    "def test(parametro1, parametro2=\"valor por defecto\"):\n",
    "    \"\"\"\n",
    "    La funión test recibe dos argumentos y retorna la concatenación de ellas. \n",
    "    :param parametro1: contenido 1\n",
    "    :param parametro2: contenido 2\n",
    "    \"\"\"\n",
    "    texto3 = str(parametro1) + str(parametro2)\n",
    "    return texto3\n",
    "\n"
   ]
  },
  {
   "cell_type": "code",
   "execution_count": null,
   "metadata": {},
   "outputs": [],
   "source": []
  },
  {
   "cell_type": "code",
   "execution_count": null,
   "metadata": {
    "id": "_N1ONqx0WFtv",
    "outputId": "647a4094-e94f-4c5e-9d69-5a8a3e1b565a"
   },
   "outputs": [],
   "source": [
    "help(test)"
   ]
  },
  {
   "cell_type": "code",
   "execution_count": null,
   "metadata": {
    "id": "JaFfDBXRWFtw",
    "outputId": "202cc29f-071c-426c-89a1-7ab728028270"
   },
   "outputs": [],
   "source": [
    "test(1)"
   ]
  },
  {
   "cell_type": "code",
   "execution_count": null,
   "metadata": {
    "id": "wvVmvQAnWFtw",
    "outputId": "fd352a96-8f28-42f2-a342-8e99ba1ed52e"
   },
   "outputs": [],
   "source": [
    "test(\"Esto es una \", \"prueba\")"
   ]
  },
  {
   "cell_type": "code",
   "execution_count": null,
   "metadata": {
    "id": "fB4ejDsUWFtw",
    "outputId": "35deaa6e-2d58-40b2-add3-cc3c118aa823"
   },
   "outputs": [],
   "source": [
    "# Se define una funcion incompleta, se queda a la espera que incluya instrucciones adicionales\n",
    "def funcion():"
   ]
  },
  {
   "cell_type": "code",
   "execution_count": null,
   "metadata": {
    "id": "lL7ZLUPdWFtw",
    "outputId": "0e85b905-2ff1-4207-bfab-d17b1f4494a4"
   },
   "outputs": [],
   "source": [
    "# Ejemplo con un argumento: número par\n",
    "\n",
    "def es_par(i):\n",
    "    \"\"\"\n",
    "    La funcion es_par devuelve True si el número i es par, False si es impar.\n",
    "    \n",
    "    :param i: entero para calcular si es par o no.\n",
    "    \"\"\"\n",
    "    if i % 2 == 0:\n",
    "        return True\n",
    "    else:\n",
    "        return False\n",
    "    \n",
    "print(es_par(3))\n",
    "print(es_par(4))"
   ]
  },
  {
   "cell_type": "code",
   "execution_count": null,
   "metadata": {
    "id": "s82Fbz37WFtx",
    "outputId": "b6931d39-da1e-4717-97e2-238f2de9b57d"
   },
   "outputs": [],
   "source": [
    "# Ejemplo: número par\n",
    "\n",
    "def es_par(i):\n",
    "    \"\"\"Devuelve True si el número i es par, False si es impar.\n",
    "    \n",
    "    :param i: entero para calcular si es par o no.\n",
    "    \"\"\"\n",
    "    return i % 2 == 0\n",
    "\n",
    "print(es_par(3))\n",
    "print(es_par(4))"
   ]
  },
  {
   "cell_type": "code",
   "execution_count": null,
   "metadata": {
    "id": "-MsJ3rJLWFtx",
    "outputId": "10888609-3db0-47cf-9757-cb1288d771c5"
   },
   "outputs": [],
   "source": [
    "# Todo en Python es un objeto, luego:\n",
    "\n",
    "help(es_par)"
   ]
  },
  {
   "cell_type": "code",
   "execution_count": null,
   "metadata": {
    "id": "HlymuDJZWFtx",
    "outputId": "550d4182-8bc8-4a0e-a0b9-2dab66398db3"
   },
   "outputs": [],
   "source": [
    "print(test.__doc__)"
   ]
  },
  {
   "cell_type": "markdown",
   "metadata": {
    "id": "plhrzog1WFtx"
   },
   "source": [
    "## Argumentos y scope\n",
    "\n",
    "* Los argumentos se definen en la cabecera de la función de la siguiente manera:\n",
    "```python\n",
    "def name(arg1, arg2, ..., argN, kwarg1=val1, kwarg2=val2, ..., kwargN, valN):\n",
    "```\n",
    "    * `arg1`, etc. son argumentos obligatorios\n",
    "        * Siempre hay que pasarselos a la función cuando sea invocada.\n",
    "        * No pueden tomar valores por defecto\n",
    "    * `kwarg1` son argumentos opcionales o _keyword arguments_.\n",
    "        * No hay por que pasarlos.\n",
    "        * Tienen que tener un valor por defecto, que se evalúa *una única vez*."
   ]
  },
  {
   "cell_type": "code",
   "execution_count": null,
   "metadata": {
    "id": "C5zz4IfnWFty"
   },
   "outputs": [],
   "source": [
    "# Sin definir un argumento obligatorio\n",
    "def name(arg):\n",
    "    pass\n",
    "\n",
    "name(12213)"
   ]
  },
  {
   "cell_type": "code",
   "execution_count": null,
   "metadata": {
    "id": "r3nj1dAqWFty"
   },
   "outputs": [],
   "source": [
    "# Sin definir un argumento opcional\n",
    "def name(kwarg=None):\n",
    "    pass\n",
    "name()"
   ]
  },
  {
   "cell_type": "code",
   "execution_count": null,
   "metadata": {
    "id": "Rfky5M-aWFty"
   },
   "outputs": [],
   "source": [
    "def name(arg, kwarg=None):\n",
    "    pass\n",
    "\n",
    "#name(None)\n",
    "name(None, kwarg=None)\n",
    "name(kwarg=None)"
   ]
  },
  {
   "cell_type": "markdown",
   "metadata": {
    "id": "Sc1X423oWFty"
   },
   "source": [
    "* Los argumentos que se definen en la cabecera de la función se llaman _argumentos formales_\n",
    "* Los argumentos con los que se llama la función son _argumentos reales_\n",
    "* Cuando se llama a una función:\n",
    "    * Los parámetros formales se asignan a los parámetros reales.\n",
    "    * Se crea un nuevo \"scope\" para la función: las nuevas variables solo existen dentro de la función.\n",
    "    * Aún así, una función puede acceder a una variable fuera de la función.\n",
    "    * Pero no puede escribir en ella a menos que sea declarada como global"
   ]
  },
  {
   "cell_type": "code",
   "execution_count": null,
   "metadata": {
    "id": "hmdwn4qnWFtz",
    "outputId": "ae59e99d-8866-4347-e0fb-ea58d4291d57"
   },
   "outputs": [],
   "source": [
    "# i solo existe dentro de la función es par, y solo durante su invocación\n",
    "\n",
    "def es_par(i):\n",
    "    return i % 2 == 0\n",
    "\n",
    "gdf = 24\n",
    "es_par(gdf)"
   ]
  },
  {
   "cell_type": "code",
   "execution_count": null,
   "metadata": {
    "id": "0wOFXBQwWFtz",
    "outputId": "e4448c5a-9aba-42cb-bbd1-67e68f41f0ad"
   },
   "outputs": [],
   "source": [
    "# Una función puede acceder a una variable fuera de su scope\n",
    "\n",
    "x = 6 # argumento global \n",
    "def pato(cb):\n",
    "    xx = 2*cb # argumento local \n",
    "    print(x)\n",
    "\n",
    "pato(3)"
   ]
  },
  {
   "cell_type": "code",
   "execution_count": null,
   "metadata": {
    "id": "Zhyf_ypGWFtz",
    "outputId": "88507e3f-9024-4bbd-8df9-3d0754779467"
   },
   "outputs": [],
   "source": [
    "# Una función no puede escribir en una variable fuera de su scope\n",
    "\n",
    "x = 5\n",
    "\n",
    "def foo(x):\n",
    "    x += 1\n",
    "    return x\n",
    "\n",
    "print(\"Valor procesado de x en foo: \",  foo(x))\n",
    "print(\"Valor del x real: \", x)"
   ]
  },
  {
   "cell_type": "code",
   "execution_count": null,
   "metadata": {
    "id": "lJrLeGtiWFt0",
    "outputId": "983ed9fc-acf4-488e-b0bb-ef38829d65b4"
   },
   "outputs": [],
   "source": [
    "# Una función puede escribir en una variable global fuera de su scope\n",
    "x = 5\n",
    "\n",
    "def foo():\n",
    "    global x\n",
    "    x += 1\n",
    "    return x\n",
    "print(\"Valor procesado de x en foo: \",  foo())\n",
    "print(\"Valor del x real: \", x)"
   ]
  },
  {
   "cell_type": "code",
   "execution_count": null,
   "metadata": {
    "id": "MLWlZOnHWFt0",
    "outputId": "27bc34e2-607d-450a-c46a-c33f267915c7"
   },
   "outputs": [],
   "source": [
    "y = 3 # siempre necesito que sea 3, porque es la constante densidad\n",
    "\n",
    "def foo(constante):\n",
    "    constante *= 5\n",
    "    return constante\n",
    "print(\"Valor procesado de y en foo: \",  foo(y))\n",
    "print(\"Valor del y real: \", y)\n"
   ]
  },
  {
   "cell_type": "markdown",
   "metadata": {
    "id": "79v-3SlrWFt0"
   },
   "source": [
    "* Hay que tener en cuenta la asignación de variables en Python.\n",
    "* Los parámetros formales *se asignan* a los parámetros reales.\n",
    "    * Es decir, que se pasan las referencias, *NO* los valores\n",
    "    * No se realiza una copia.\n",
    "* Esto no es un problema con objetos inmutables"
   ]
  },
  {
   "cell_type": "code",
   "execution_count": null,
   "metadata": {
    "id": "2ogN0FN0WFt0",
    "outputId": "ff7357c8-7ec1-47ad-f1d0-c6d01bbaa880"
   },
   "outputs": [],
   "source": [
    "# Los paramétros de la función se asignan igual que si fuesen variables,\n",
    "# estando accesible dentro del scope de la función.\n",
    "\n",
    "def cuadrado(i):\n",
    "    i = i * i\n",
    "    return i \n",
    "\n",
    "i = 5\n",
    "print(\"i: %1d, \\t |\\t cuadrado de i: %2d\"%(i, cuadrado(i)))\n"
   ]
  },
  {
   "cell_type": "code",
   "execution_count": null,
   "metadata": {
    "id": "csg_5QIAWFt1",
    "outputId": "ac00d93c-f571-489b-da39-dccf1239ac38"
   },
   "outputs": [],
   "source": [
    "k2 = 4\n",
    "print(\"i: %1d, \\t |\\t cuadrado de i: %2d\"%(k2, cuadrado(k2)))\n"
   ]
  },
  {
   "cell_type": "code",
   "execution_count": null,
   "metadata": {
    "id": "0ME7Amv-WFt1",
    "outputId": "1854ef4e-4a8b-4610-87e0-43826488745a"
   },
   "outputs": [],
   "source": []
  },
  {
   "cell_type": "markdown",
   "metadata": {
    "id": "k8lm8ewJWFt1"
   },
   "source": [
    "* Pero sí con objetos mutables!!"
   ]
  },
  {
   "cell_type": "code",
   "execution_count": null,
   "metadata": {
    "id": "qAw3UJYIWFt1",
    "outputId": "3fccfd89-905c-466b-c7c3-dcc064102b53"
   },
   "outputs": [],
   "source": [
    "# Los paramétros de la función se asignan igual que si fuesen variables,\n",
    "# por lo que hay que tener cuidado con los objetos mutables\n",
    "\n",
    "l = [10, 2, 23, -1, 99, 12]\n",
    "\n",
    "def ordena_e_imprime(l):\n",
    "    l.sort()\n",
    "\n",
    "\n",
    "print(\"l antes:\\t\", l)\n",
    "ordena_e_imprime(l)\n",
    "print(\"l despues:\\t\", l)  # l se ha modificado!!"
   ]
  },
  {
   "cell_type": "code",
   "execution_count": null,
   "metadata": {
    "id": "E4GrBYXlWFt2",
    "outputId": "e88120e7-3e1a-40d7-b85f-efb5749679bb"
   },
   "outputs": [],
   "source": [
    "# Solución: usar una copia si modificamos objetos mutables\n",
    "\n",
    "def ordena_e_imprime(l):\n",
    "    global temp\n",
    "    temp = l[:]\n",
    "    temp.sort()\n",
    "\n",
    "l = [10, 2, 23, -1, 99, 12]\n",
    "\n",
    "print(\"l antes:\\t\", l)\n",
    "ordena_e_imprime(l)\n",
    "print(\"l despues:\\t\", l)  # l se ha modificado!!\n",
    "print(\"temp despues:\\t\", temp)  # l se ha modificado!!"
   ]
  },
  {
   "cell_type": "markdown",
   "metadata": {
    "id": "EzauRJsQWFt2"
   },
   "source": [
    "* Los _keyword arguments_ evaluan sus valores por defecto en el momento de su definición.\n",
    "* Esto es peligroso con objetos mutables."
   ]
  },
  {
   "cell_type": "code",
   "execution_count": null,
   "metadata": {
    "id": "14VCCIpXWFt2",
    "outputId": "9c273cd8-43f7-4d99-9595-aad10a81db44"
   },
   "outputs": [],
   "source": [
    "# El valor por defecto se evalua al momento de la definición, con lo que\n",
    "# a l se le asigna ya un objeto, lista vacía.\n",
    "\n",
    "def add_to_list(l=[]):\n",
    "    \"\"\"\n",
    "    Añade los valores \"a\", \"b\" y \"c\" a la lista l.\n",
    "    Si no se pasa ninguna lista, devuelve una con esos valores\n",
    "    \"\"\"\n",
    "    l.extend([\"a\", \"b\", \"c\"])\n",
    "    return l\n",
    "\n",
    "print(add_to_list())\n",
    "print(add_to_list())\n",
    "print(add_to_list())\n",
    "l"
   ]
  },
  {
   "cell_type": "code",
   "execution_count": null,
   "metadata": {
    "id": "V893EHivWFt2",
    "outputId": "b93cb098-4696-4928-8cb6-8e72df817a8e"
   },
   "outputs": [],
   "source": [
    "# Solución, usar None en lugar de una lista vacía\n",
    "\n",
    "def add_to_list(l=None):\n",
    "    \"\"\"\n",
    "    Añade los valores \"a\", \"b\" y \"c\" a la lista l.\n",
    "    Si no se pasa ninguna lista, devuelve una con esos valores\n",
    "    \"\"\"\n",
    "    if l is None:\n",
    "        l = []\n",
    "    l.extend([\"a\", \"b\", \"c\"])\n",
    "    return l\n",
    "\n",
    "print(add_to_list())\n",
    "print(add_to_list())\n",
    "print(add_to_list())"
   ]
  },
  {
   "cell_type": "markdown",
   "metadata": {
    "id": "dqfn3SZ5WFt3"
   },
   "source": [
    "## print vs return\n",
    "\n",
    "* `print()` y `return` son totalmente diferentes!!\n",
    "* `print()`\n",
    "    * escribe por pantalla los argumentos que se le pasen\n",
    "    * se puede llamar cuantas veces se quiera\n",
    "* `return`\n",
    "    * solo se puede utilizar dentro de una función\n",
    "    * solo se va a ejecutar una única vez\n",
    "* En el interprete, una llamada a una función con print y return puede resultar similar, si no se asigna el resultado a una variable, pero no es asi!\n",
    "    * El interprete (y Jupyter) evaluan una expresión y muestran su resultado si este es diferente a `None`.\n",
    "    * ```REPL: Read, Evaluate, Print, Loop.```"
   ]
  },
  {
   "cell_type": "code",
   "execution_count": null,
   "metadata": {
    "executionInfo": {
     "elapsed": 1245,
     "status": "ok",
     "timestamp": 1657307326609,
     "user": {
      "displayName": "Moises Ruben Gualapuro Gualapuro",
      "userId": "00783441233645351804"
     },
     "user_tz": 300
    },
    "id": "DAwzc7DtNoqm"
   },
   "outputs": [],
   "source": [
    "def potencia(x, y): \n",
    "  z = x**y\n",
    "  return"
   ]
  },
  {
   "cell_type": "code",
   "execution_count": null,
   "metadata": {
    "executionInfo": {
     "elapsed": 509,
     "status": "ok",
     "timestamp": 1657307341114,
     "user": {
      "displayName": "Moises Ruben Gualapuro Gualapuro",
      "userId": "00783441233645351804"
     },
     "user_tz": 300
    },
    "id": "6bWIQOi9NwJe"
   },
   "outputs": [],
   "source": [
    "potencia(4,2)"
   ]
  },
  {
   "cell_type": "code",
   "execution_count": null,
   "metadata": {
    "executionInfo": {
     "elapsed": 8,
     "status": "ok",
     "timestamp": 1657307357939,
     "user": {
      "displayName": "Moises Ruben Gualapuro Gualapuro",
      "userId": "00783441233645351804"
     },
     "user_tz": 300
    },
    "id": "Kz_Y6nWINzHb"
   },
   "outputs": [],
   "source": [
    "def potencia(x, y): \n",
    "  z = x**y\n",
    "  print(z)\n",
    "  return"
   ]
  },
  {
   "cell_type": "code",
   "execution_count": null,
   "metadata": {
    "colab": {
     "base_uri": "https://localhost:8080/"
    },
    "executionInfo": {
     "elapsed": 497,
     "status": "ok",
     "timestamp": 1657307369333,
     "user": {
      "displayName": "Moises Ruben Gualapuro Gualapuro",
      "userId": "00783441233645351804"
     },
     "user_tz": 300
    },
    "id": "tWzvb54PN3Yl",
    "outputId": "e7dd4cfa-3df7-40ef-a047-7c55dbe09091"
   },
   "outputs": [],
   "source": [
    "potencia(2,3)"
   ]
  },
  {
   "cell_type": "code",
   "execution_count": null,
   "metadata": {
    "colab": {
     "base_uri": "https://localhost:8080/"
    },
    "executionInfo": {
     "elapsed": 538,
     "status": "ok",
     "timestamp": 1657307411489,
     "user": {
      "displayName": "Moises Ruben Gualapuro Gualapuro",
      "userId": "00783441233645351804"
     },
     "user_tz": 300
    },
    "id": "Vb3_CMmON7TR",
    "outputId": "a83043c3-abb1-445a-c9c2-a6e8b0a52d36"
   },
   "outputs": [],
   "source": [
    "y2 = potencia(2,3)\n",
    "y2"
   ]
  },
  {
   "cell_type": "code",
   "execution_count": null,
   "metadata": {
    "executionInfo": {
     "elapsed": 566,
     "status": "ok",
     "timestamp": 1657307684152,
     "user": {
      "displayName": "Moises Ruben Gualapuro Gualapuro",
      "userId": "00783441233645351804"
     },
     "user_tz": 300
    },
    "id": "M62QLhgwOIMv"
   },
   "outputs": [],
   "source": [
    "def potencia(x, y): \n",
    "  z = x**y\n",
    "  t = y**x\n",
    "  return [z, t]"
   ]
  },
  {
   "cell_type": "code",
   "execution_count": null,
   "metadata": {
    "colab": {
     "base_uri": "https://localhost:8080/"
    },
    "executionInfo": {
     "elapsed": 707,
     "status": "ok",
     "timestamp": 1657307887980,
     "user": {
      "displayName": "Moises Ruben Gualapuro Gualapuro",
      "userId": "00783441233645351804"
     },
     "user_tz": 300
    },
    "id": "xSlAdNnZOKlJ",
    "outputId": "031a2459-0f0e-4378-a173-182be40f4383"
   },
   "outputs": [],
   "source": [
    "y3 = potencia(2,3)\n",
    "print(type(y3))\n",
    "y3\n"
   ]
  },
  {
   "cell_type": "code",
   "execution_count": null,
   "metadata": {
    "colab": {
     "base_uri": "https://localhost:8080/",
     "height": 71
    },
    "executionInfo": {
     "elapsed": 1255,
     "status": "ok",
     "timestamp": 1657307307528,
     "user": {
      "displayName": "Moises Ruben Gualapuro Gualapuro",
      "userId": "00783441233645351804"
     },
     "user_tz": 300
    },
    "id": "6UhuwMnhWFt3",
    "outputId": "9a2c7045-2c1e-49f6-f8eb-054e30abf3a1"
   },
   "outputs": [],
   "source": [
    "def funcion():\n",
    "    print(\"hola\")\n",
    "    return \"HOLA\"\n",
    "\n",
    "result1 = funcion()\n",
    "print(\"_____\")\n",
    "result1"
   ]
  },
  {
   "cell_type": "code",
   "execution_count": null,
   "metadata": {
    "id": "oa1FiuISNue0"
   },
   "outputs": [],
   "source": []
  },
  {
   "cell_type": "code",
   "execution_count": null,
   "metadata": {
    "executionInfo": {
     "elapsed": 19,
     "status": "ok",
     "timestamp": 1657307308136,
     "user": {
      "displayName": "Moises Ruben Gualapuro Gualapuro",
      "userId": "00783441233645351804"
     },
     "user_tz": 300
    },
    "id": "_jIaLyq6WFt3"
   },
   "outputs": [],
   "source": []
  },
  {
   "cell_type": "code",
   "execution_count": null,
   "metadata": {
    "colab": {
     "base_uri": "https://localhost:8080/"
    },
    "executionInfo": {
     "elapsed": 19,
     "status": "ok",
     "timestamp": 1657307308137,
     "user": {
      "displayName": "Moises Ruben Gualapuro Gualapuro",
      "userId": "00783441233645351804"
     },
     "user_tz": 300
    },
    "id": "0ydGbW-NWFt3",
    "outputId": "0e63be84-26eb-4b89-e4b9-a76bdc680e0f"
   },
   "outputs": [],
   "source": [
    "resultado = funcion()\n",
    "print(resultado)"
   ]
  },
  {
   "cell_type": "code",
   "execution_count": null,
   "metadata": {
    "colab": {
     "base_uri": "https://localhost:8080/"
    },
    "executionInfo": {
     "elapsed": 16,
     "status": "ok",
     "timestamp": 1657307308137,
     "user": {
      "displayName": "Moises Ruben Gualapuro Gualapuro",
      "userId": "00783441233645351804"
     },
     "user_tz": 300
    },
    "id": "lHdKd_YcWFt8",
    "outputId": "2522ea83-5c7d-4619-8ccb-a459059828d7"
   },
   "outputs": [],
   "source": [
    "def funcion():\n",
    "    print(\"1\")\n",
    "    return 1\n",
    "    \n",
    "funcion()"
   ]
  },
  {
   "cell_type": "code",
   "execution_count": null,
   "metadata": {
    "colab": {
     "base_uri": "https://localhost:8080/"
    },
    "executionInfo": {
     "elapsed": 11,
     "status": "ok",
     "timestamp": 1657307308138,
     "user": {
      "displayName": "Moises Ruben Gualapuro Gualapuro",
      "userId": "00783441233645351804"
     },
     "user_tz": 300
    },
    "id": "RlXrQd6bWFt8",
    "outputId": "db852c91-e01e-4cf3-b074-8c643bbef17e"
   },
   "outputs": [],
   "source": [
    "resultado = funcion()\n",
    "print(resultado)"
   ]
  },
  {
   "cell_type": "markdown",
   "metadata": {
    "id": "FCW6ZUv2WFt9"
   },
   "source": [
    "## Ejemplo: DNA GCcounter"
   ]
  },
  {
   "cell_type": "code",
   "execution_count": null,
   "metadata": {
    "executionInfo": {
     "elapsed": 14,
     "status": "ok",
     "timestamp": 1657308341155,
     "user": {
      "displayName": "Moises Ruben Gualapuro Gualapuro",
      "userId": "00783441233645351804"
     },
     "user_tz": 300
    },
    "id": "NqKq3Jd7WFt9"
   },
   "outputs": [],
   "source": [
    "# here's our first function\n",
    "def GCcontent(seq=\"AtcG\", direccion = \"Forward\", cifra_sign = 3):\n",
    "    '''\n",
    "    GCcontent acepta como argumento una secuencia de texto de nombre dna;\n",
    "    Asume que la secuencia DNA está como texto (string), \n",
    "    Calcula el porcentaje de núcleótidos G y C utiizando la expresión \n",
    "    perc_gc = (G + C) / (A + T + G + C)\n",
    "    :param dna: secuencia de interés para calcular contenido de CG\n",
    "    :param dirección: ingresar Forward o Reverse\n",
    "    \n",
    "    '''\n",
    "    \n",
    "    if direccion == \"Forward\": \n",
    "        \n",
    "        # Transforma a mayúsculas a todos los caracteres\n",
    "        dna = seq.upper()\n",
    "        # Cuenta las ocurrencia de cada nucleotido\n",
    "        numG = dna.count(\"G\")\n",
    "        numC = dna.count(\"C\")\n",
    "        length = len(dna)\n",
    "        # calcula el porcentaje de los núcleótidos G y C (G + C) / (A + T + G + C)\n",
    "        perc_gc = round(100*(numG + numC) / length, cifra_sign)\n",
    "        return [dna, numG, numC, length, perc_gc]\n",
    "    else: \n",
    "        mensaje = print(\"Encuentre la reversa y calcule GC\")\n",
    "        return mensaje\n",
    "    "
   ]
  },
  {
   "cell_type": "code",
   "execution_count": null,
   "metadata": {
    "id": "KC4X8X1zWFt9",
    "outputId": "1f029981-8912-4ba4-8208-6ce7ffaceeb3"
   },
   "outputs": [],
   "source": [
    "print(GCcontent.__doc__)"
   ]
  },
  {
   "cell_type": "code",
   "execution_count": null,
   "metadata": {
    "colab": {
     "base_uri": "https://localhost:8080/"
    },
    "executionInfo": {
     "elapsed": 14,
     "status": "ok",
     "timestamp": 1657308343793,
     "user": {
      "displayName": "Moises Ruben Gualapuro Gualapuro",
      "userId": "00783441233645351804"
     },
     "user_tz": 300
    },
    "id": "d1MTRiOcWFt9",
    "outputId": "1e85ad65-b4d3-4765-ce46-eb1bcb002b0d"
   },
   "outputs": [],
   "source": [
    "GCcontent()"
   ]
  },
  {
   "cell_type": "code",
   "execution_count": null,
   "metadata": {
    "colab": {
     "base_uri": "https://localhost:8080/"
    },
    "executionInfo": {
     "elapsed": 395,
     "status": "ok",
     "timestamp": 1657308361146,
     "user": {
      "displayName": "Moises Ruben Gualapuro Gualapuro",
      "userId": "00783441233645351804"
     },
     "user_tz": 300
    },
    "id": "LDRR8GOIWFt-",
    "outputId": "3c6c76e1-ee96-41f9-94ca-5f90c81b9c99"
   },
   "outputs": [],
   "source": [
    "GCcontent(\"Hola gata\", \"Forward\", 5)"
   ]
  },
  {
   "cell_type": "code",
   "execution_count": null,
   "metadata": {
    "colab": {
     "base_uri": "https://localhost:8080/"
    },
    "executionInfo": {
     "elapsed": 447,
     "status": "ok",
     "timestamp": 1657308383238,
     "user": {
      "displayName": "Moises Ruben Gualapuro Gualapuro",
      "userId": "00783441233645351804"
     },
     "user_tz": 300
    },
    "id": "G3nSzmUtWFt-",
    "outputId": "23cfc809-c778-45a2-80a8-a4bfc503e510"
   },
   "outputs": [],
   "source": [
    "GCcontent(direccion= \"backaward\", seq= \"ATGCATGCATGC\", cifra_sign = 5)"
   ]
  },
  {
   "cell_type": "code",
   "execution_count": null,
   "metadata": {
    "executionInfo": {
     "elapsed": 403,
     "status": "ok",
     "timestamp": 1657308526523,
     "user": {
      "displayName": "Moises Ruben Gualapuro Gualapuro",
      "userId": "00783441233645351804"
     },
     "user_tz": 300
    },
    "id": "H_y4v9lFSElH"
   },
   "outputs": [],
   "source": [
    "def GCcontent(direccion = \"Forward\", cifra_sign = 3):\n",
    "    seq = input(\"Secuencia de ADN:\")\n",
    "    if \"ATCG\" is not in seq: \n",
    "      print(\"solo se aceptan secuencia de nucleótidos\")\n",
    "      break\n",
    "    \n",
    "    if direccion == \"Forward\": \n",
    "        \n",
    "        # Transforma a mayúsculas a todos los caracteres\n",
    "        dna = seq.upper()\n",
    "        # Cuenta las ocurrencia de cada nucleotido\n",
    "        numG = dna.count(\"G\")\n",
    "        numC = dna.count(\"C\")\n",
    "        numA = dna.count(\"A\")\n",
    "        numT = dna.count(\"T\")\n",
    "        length = len(dna)\n",
    "        # calcula el porcentaje de los núcleótidos G y C (G + C) / (A + T + G + C)\n",
    "        perc_gc = round(100*(numG + numC) / length, cifra_sign)\n",
    "        return [dna, numG, numC, length, perc_gc]\n",
    "    else: \n",
    "        mensaje = print(\"Encuentre la reversa y calcule GC\")\n",
    "        return mensaje"
   ]
  },
  {
   "cell_type": "code",
   "execution_count": null,
   "metadata": {
    "colab": {
     "base_uri": "https://localhost:8080/"
    },
    "executionInfo": {
     "elapsed": 15138,
     "status": "ok",
     "timestamp": 1657308567668,
     "user": {
      "displayName": "Moises Ruben Gualapuro Gualapuro",
      "userId": "00783441233645351804"
     },
     "user_tz": 300
    },
    "id": "T82kZWuZST_v",
    "outputId": "3ba101ea-2219-4a19-b503-356be27d3e11"
   },
   "outputs": [],
   "source": [
    "GCcontent(\"Forward\", 1)"
   ]
  },
  {
   "cell_type": "code",
   "execution_count": null,
   "metadata": {
    "id": "0KcTZfT8WFt-"
   },
   "outputs": [],
   "source": [
    "def squared(start= 1, end=3, step = 1):\n",
    "    # lista vacía para agregar resultados del bucle\n",
    "    results = []\n",
    "    for i in range(start, end + 1, step):\n",
    "        r = i ** 2\n",
    "        # agregar valor resultado a la lista result = []\n",
    "        results.append(r)\n",
    "    return results"
   ]
  },
  {
   "cell_type": "code",
   "execution_count": null,
   "metadata": {
    "id": "1Bx-isJ6WFt-",
    "outputId": "bfe5f85b-95bb-4837-84b3-06166870bc06"
   },
   "outputs": [],
   "source": [
    "squared()"
   ]
  },
  {
   "cell_type": "code",
   "execution_count": null,
   "metadata": {
    "id": "Mqip-UjjWFt-",
    "outputId": "30428b8c-afed-4d68-ffb3-edff0c8f8f7c"
   },
   "outputs": [],
   "source": [
    "# Se definen nuevos valores para start y end\n",
    "squared(start = 3, end = 10)"
   ]
  },
  {
   "cell_type": "code",
   "execution_count": null,
   "metadata": {
    "id": "POVlgxt-WFt_",
    "outputId": "d0d33462-754c-43aa-c045-55e4340a3c26"
   },
   "outputs": [],
   "source": [
    "# Se define solamente el valor start\n",
    "squared(5, -10, -1)"
   ]
  },
  {
   "cell_type": "code",
   "execution_count": null,
   "metadata": {
    "id": "Y9bvaGC9WFt_",
    "outputId": "f16b0ea5-9f5d-447b-cfc2-28198d5c5d3d"
   },
   "outputs": [],
   "source": [
    "# Se define solamente el valor start\n",
    "squared(end = 3)"
   ]
  },
  {
   "cell_type": "code",
   "execution_count": null,
   "metadata": {
    "id": "HHOKjrmuWFt_",
    "outputId": "6d334522-40e4-4da0-dc9f-c455fa33558a"
   },
   "outputs": [],
   "source": [
    "# sin argumentos\n",
    "squared()"
   ]
  },
  {
   "cell_type": "markdown",
   "metadata": {
    "id": "hvpe88T7WFuA"
   },
   "source": [
    "## Mejorando funciones\n",
    "\n",
    "Al observar los resultados para diferentes ejecuciones de la función podemos evaluar si devuelve lo esperado\n"
   ]
  },
  {
   "cell_type": "code",
   "execution_count": null,
   "metadata": {
    "id": "oJVGy45DWFuA",
    "outputId": "9a016c49-7676-4b6b-9dda-55fc2d2d6ae7"
   },
   "outputs": [],
   "source": [
    "def ATcontent(dna):\n",
    "    return (dna.count('A') + dna.count('T')) / len(dna)\n",
    "at_ratio = ATcontent(\"ATGCGCGATCGATCGAATCG\")\n",
    "print(str(at_ratio))"
   ]
  },
  {
   "cell_type": "code",
   "execution_count": null,
   "metadata": {
    "id": "rHjvR_UMWFuA",
    "outputId": "e0e1e4f9-26a3-48ad-928d-b60125f06e10"
   },
   "outputs": [],
   "source": [
    "# Función para evaluar el porcentaje de contenido de ncleótidos A y T \n",
    "def ATcontent(dna):\n",
    "    length = len(dna)\n",
    "    a_count = dna.count('A')\n",
    "    t_count = dna.count('T')\n",
    "    at_content = (a_count + t_count) / length\n",
    "    return at_content\n",
    "\n",
    "\n",
    "at_ratio = ATcontent(\"ATGCGCGATCGATCGAATCG\")\n",
    "print(str(at_ratio))\n",
    "print(ATcontent(\"ATGCATGCAACTGTAGC\"))\n",
    "print(ATcontent(\"aactgtagctagctagcagcgta\"))\n",
    "\n",
    "# valores esperados fáciles\n",
    "print(ATcontent(\"ATGC\"))\n",
    "print(ATcontent(\"ATGCNNNNNNNNNN\"))\n"
   ]
  },
  {
   "cell_type": "markdown",
   "metadata": {
    "id": "VEviBKVvWFuB"
   },
   "source": [
    "En los casos anteriores se tiene necesidad d: \n",
    "\n",
    "* uniformizar los resultados\n",
    "* que no cuente si se tiene caracteres diferentes a los nucleótidos A, T, C, G\n",
    "\n",
    "Para ello se puede utilizar la función `assert`"
   ]
  },
  {
   "cell_type": "code",
   "execution_count": null,
   "metadata": {
    "id": "siY4yG7fWFuB"
   },
   "outputs": [],
   "source": [
    "assert ATcontent(\"ATGC\") == 0.5"
   ]
  },
  {
   "cell_type": "code",
   "execution_count": null,
   "metadata": {
    "id": "wouu9v4CWFuB",
    "outputId": "d474bda4-bb24-4063-d1ed-76c6c336498e"
   },
   "outputs": [],
   "source": [
    "assert ATcontent(\"ATGCNNNNNNNNNN\") == 0.5"
   ]
  },
  {
   "cell_type": "code",
   "execution_count": null,
   "metadata": {
    "id": "fG28rCl0WFuC"
   },
   "outputs": [],
   "source": [
    "# Función con cambios\n",
    "def ATcontent(dna, sig_figs=3):\n",
    "    dna = dna.replace('N', '')\n",
    "    length = len(dna)\n",
    "    a_count = dna.upper().count('A')\n",
    "    t_count = dna.upper().count('T')\n",
    "    at_content = (a_count + t_count) / length\n",
    "    return round(at_content, sig_figs) "
   ]
  },
  {
   "cell_type": "code",
   "execution_count": null,
   "metadata": {
    "id": "tJTlT1qHWFuC"
   },
   "outputs": [],
   "source": [
    "assert ATcontent(\"ATGC\") == 0.5"
   ]
  },
  {
   "cell_type": "code",
   "execution_count": null,
   "metadata": {
    "id": "RuFOGqpZWFuD"
   },
   "outputs": [],
   "source": [
    "assert ATcontent(\"ATGCNNNNNNNNNN*R\") == 0.5"
   ]
  },
  {
   "cell_type": "code",
   "execution_count": null,
   "metadata": {
    "id": "5FiLIbbOWFuD"
   },
   "outputs": [],
   "source": [
    "assert ATcontent(\"ATGCGCGATCGATCGAATCG\") == 0.45"
   ]
  },
  {
   "cell_type": "code",
   "execution_count": null,
   "metadata": {
    "id": "P3MzRdKYWFuE"
   },
   "outputs": [],
   "source": [
    "assert ATcontent(\"ATGCATGCAACTGTAGC\") == 0.529"
   ]
  },
  {
   "cell_type": "code",
   "execution_count": null,
   "metadata": {
    "id": "zXYTcKgKWFuE"
   },
   "outputs": [],
   "source": [
    "import numpy as np\n",
    "import pandas as pd\n",
    "import matplotlib.pyplot as plt"
   ]
  },
  {
   "cell_type": "markdown",
   "metadata": {
    "id": "1U6lAFcuWFuE"
   },
   "source": [
    "# Modulos\n",
    "\n",
    "* Python permite agrupar variables, funciones, objetos, etc. en un fichero llamado módulo.\n",
    "* Un módulo es un fichero de texto que contiene codigo en Python, con la extensión `.py`.\n",
    "* Dentro de un módulo, el nombre del mismo se almacena en la variable `__name__`.\n"
   ]
  },
  {
   "cell_type": "markdown",
   "metadata": {
    "id": "1Ty_LAqjWFuE"
   },
   "source": [
    "## Importando módulos\n",
    "\n",
    "* `import mymodule`, permite importar el módulo completo. Para acceder a la función se debe escribir `mymodule.myfunction()`. Util cuando se tiene otros módulos que tienen nombres de funciones similares. \n",
    "* `from mymodule import myfunction` de un módulo se importa una función específica. \n",
    "* `import mymodule as mm` es una módulo completo dodne el nombre extenso del módulo se simplifica. Ayuda a tener facilidad de escritura de funciones a utilizar. \n",
    "* `from mymodule import *` importa todas las funciones del módulo. Puede sobrepoblar de funciones y sobreesribir funciones existentes. No es recomendable utilizar. \n",
    "\n",
    "\n",
    "Luego de importar los módulos, se debe considerar lo siguiente: \n",
    "\n",
    "* Se introduce en nombre `module` en el _namespace_ actual, de forma que se puede acceder a cualquier elemento del modulo mediante `module.name`.\n",
    "* Las sentencias que existan dentro del módulo se van a ejecutar, de forma que se pueden inicializar valores, etc.\n",
    "    * De todos modos, un módulo solo se inicializa una vez\n",
    "* Cada módulo tiene su propia tabla de simbolos, por lo que se pueden utilizar variables globales sin problemas.\n",
    "* Un módulo puede importar otros módulos, pero no puede haber bucles.\n",
    "\n",
    "Se puede crear módulos propios y utilizarlos. Solamente guarde las funciones en un archivo con terminación `modulopropio.py` y coloque el archivo en un directorio accesible, de preferencia en en el **mismo directorio**. Luego, puede escribir `import modulopropio` para acceder a todas sus funciones."
   ]
  },
  {
   "cell_type": "code",
   "execution_count": null,
   "metadata": {},
   "outputs": [],
   "source": [
    "sqrt(9)"
   ]
  },
  {
   "cell_type": "code",
   "execution_count": null,
   "metadata": {
    "colab": {
     "base_uri": "https://localhost:8080/",
     "height": 166
    },
    "executionInfo": {
     "elapsed": 357,
     "status": "error",
     "timestamp": 1643067757174,
     "user": {
      "displayName": "Moises Ruben Gualapuro Gualapuro",
      "photoUrl": "https://lh3.googleusercontent.com/a-/AOh14GhnM7GOAImOpQM_TNfn7Mu6tKV3tLSAVaecNjFivzLgO0hXscBkodtLXbzHYTnJmvaKdB_XpABFGRQTP7J_YbSTRQkFuKXH8RGMB49lSbnS7_cdUFR3WA8s8jwODg3IXdAFjNac6bBLHTdEqRCEeQKovVgbaS5dUtN52xI6X4R6lrxBkv4FVNdS0Ug3UFgbjFPhxboPW_cSX0QRmVxFxHHlPellHuKMI0q5YYwid4SYQ6JtK40rgQKxCz7DzRlmxBLFa5KkqNPEb5td7U-zV36L5SOgCgMmd6-w2hqwqFV4zk2Aun3VwIQBjuOa4hTn1RWKHGQ2xVgz25slvncNabl8bJhsrGpHCU1m2CCl-PHTDP-CY7HoWUD4tRgpGVEthnEsrKq1V4nEREAhFYGdmFJMl5JSzAruhITaOt19KLlPBjsk0SfT3H4c3cubU1qwzxz2TeU976j_yzQ6Dz4oCDEl6mwOQOf83Rw583kG1s9S1wm8V6UGOJtjqkr-Yso_L9Uuz2fJZT4RAb74xQSEF11znWBlTRsCuF1cBNTr9yM_1X2tQl1M0mD0NUaZGACNEkKwQ3Xl4bYoryBj7nBRqQjocLi3KGbhtrcqq3uuGEsyHhHwz9QEnRpwwvueaPJYdyGQ7-Si6FfhCXDVeTFUR6RkjHEOcMf8nJXNorITmSITDDQoLIK32SfI21wPQzknznArq9oBmfvG6HquV9BXrfxxu0butTt8foLWgui45uo0PToepS-Zb3HvzMHftsHmsylwUw=s64",
      "userId": "00783441233645351804"
     },
     "user_tz": 300
    },
    "id": "KvSF4QdvWFuE",
    "outputId": "adae0102-453d-4748-c456-5e62957e8e31"
   },
   "outputs": [],
   "source": [
    "help(sqrt)"
   ]
  },
  {
   "cell_type": "code",
   "execution_count": null,
   "metadata": {
    "colab": {
     "base_uri": "https://localhost:8080/"
    },
    "executionInfo": {
     "elapsed": 216,
     "status": "ok",
     "timestamp": 1643067818583,
     "user": {
      "displayName": "Moises Ruben Gualapuro Gualapuro",
      "photoUrl": "https://lh3.googleusercontent.com/a-/AOh14GhnM7GOAImOpQM_TNfn7Mu6tKV3tLSAVaecNjFivzLgO0hXscBkodtLXbzHYTnJmvaKdB_XpABFGRQTP7J_YbSTRQkFuKXH8RGMB49lSbnS7_cdUFR3WA8s8jwODg3IXdAFjNac6bBLHTdEqRCEeQKovVgbaS5dUtN52xI6X4R6lrxBkv4FVNdS0Ug3UFgbjFPhxboPW_cSX0QRmVxFxHHlPellHuKMI0q5YYwid4SYQ6JtK40rgQKxCz7DzRlmxBLFa5KkqNPEb5td7U-zV36L5SOgCgMmd6-w2hqwqFV4zk2Aun3VwIQBjuOa4hTn1RWKHGQ2xVgz25slvncNabl8bJhsrGpHCU1m2CCl-PHTDP-CY7HoWUD4tRgpGVEthnEsrKq1V4nEREAhFYGdmFJMl5JSzAruhITaOt19KLlPBjsk0SfT3H4c3cubU1qwzxz2TeU976j_yzQ6Dz4oCDEl6mwOQOf83Rw583kG1s9S1wm8V6UGOJtjqkr-Yso_L9Uuz2fJZT4RAb74xQSEF11znWBlTRsCuF1cBNTr9yM_1X2tQl1M0mD0NUaZGACNEkKwQ3Xl4bYoryBj7nBRqQjocLi3KGbhtrcqq3uuGEsyHhHwz9QEnRpwwvueaPJYdyGQ7-Si6FfhCXDVeTFUR6RkjHEOcMf8nJXNorITmSITDDQoLIK32SfI21wPQzknznArq9oBmfvG6HquV9BXrfxxu0butTt8foLWgui45uo0PToepS-Zb3HvzMHftsHmsylwUw=s64",
      "userId": "00783441233645351804"
     },
     "user_tz": 300
    },
    "id": "LMZFvYA_WFuF",
    "outputId": "d4e96de9-afcf-4043-ad4e-18f4c86d6976"
   },
   "outputs": [],
   "source": [
    "# Ejemplo, modulo \"math\"\n",
    "import math\n",
    "print(math.sqrt(7))\n",
    "help(math.sqrt)\n",
    "help(math.remainder)\n",
    "print(math.sqrt(144))\n",
    "print(math.factorial(5))"
   ]
  },
  {
   "cell_type": "code",
   "execution_count": 1,
   "metadata": {},
   "outputs": [],
   "source": [
    "import modulogbi6 as gbi"
   ]
  },
  {
   "cell_type": "code",
   "execution_count": 2,
   "metadata": {},
   "outputs": [
    {
     "data": {
      "text/plain": [
       "53.33"
      ]
     },
     "execution_count": 2,
     "metadata": {},
     "output_type": "execute_result"
    }
   ],
   "source": [
    "gbi.ATcontent(\"ATANNNACTCGTACNNNNNGGCT\", 2)"
   ]
  },
  {
   "cell_type": "code",
   "execution_count": 3,
   "metadata": {},
   "outputs": [
    {
     "data": {
      "text/plain": [
       "[53.3, 46.7, 1]"
      ]
     },
     "execution_count": 3,
     "metadata": {},
     "output_type": "execute_result"
    }
   ],
   "source": [
    "seq = \"ATANNNACTCGTACNNNNNGGCT\"\n",
    "resultado = [gbi.ATcontent(seq, 1), gbi.GCcontent(seq, 1), \n",
    "             gbi.GCtoAT(2, 3)]\n",
    "resultado"
   ]
  },
  {
   "cell_type": "code",
   "execution_count": null,
   "metadata": {},
   "outputs": [],
   "source": [
    "import contador # es un modulo creado por GBI6"
   ]
  },
  {
   "cell_type": "code",
   "execution_count": null,
   "metadata": {},
   "outputs": [],
   "source": [
    "gc = contador.GCcontent(\"ATACGTACGGCTGGGTCGCTGA\", 1)\n",
    "at = contador.ATcontent(\"ATACGTACGGCTGGGTCGCTGA\", 1)\n",
    "contador.potencia(gc, at)"
   ]
  },
  {
   "cell_type": "code",
   "execution_count": null,
   "metadata": {},
   "outputs": [],
   "source": [
    "?contador.GCcontent"
   ]
  },
  {
   "cell_type": "code",
   "execution_count": null,
   "metadata": {
    "id": "-kIOO-IQecmS"
   },
   "outputs": [],
   "source": [
    "%matplotlib inline\n",
    "import pandas as pd # Tablas\n",
    "import seaborn as sns # Graficos\n",
    "import numpy as np # Algebra lineal, calculo vectorial, modelos\n",
    "import matplotlib.pyplot as plt # Visualizaciòn\n",
    "import scipy # Matemaàticas avanzadas\n",
    "import sklearn # machine learning \n",
    "import tensorflow as tf# machine learning\n",
    "pd.DataFrame # crear tablas\n",
    "\n",
    "from sklearn import linear_models\n",
    "\n"
   ]
  },
  {
   "cell_type": "markdown",
   "metadata": {
    "id": "bCZcJkgEWFuF"
   },
   "source": [
    "* También se puede utilizar `from module import name` de forma que `name` se introduce directamente en el namespace actual."
   ]
  },
  {
   "cell_type": "code",
   "execution_count": null,
   "metadata": {
    "id": "RJ8_vVu0WFuF"
   },
   "outputs": [],
   "source": [
    "from math import sqrt\n",
    "\n",
    "sqrt(36)"
   ]
  },
  {
   "cell_type": "markdown",
   "metadata": {
    "id": "LqxMfPRCWFuF"
   },
   "source": [
    "* Se puede utilizar el keyword `as` para renombrar lo que se está importando, en caso de que haya alguna colision"
   ]
  },
  {
   "cell_type": "code",
   "execution_count": null,
   "metadata": {
    "id": "hlSh6J0zWFuF"
   },
   "outputs": [],
   "source": [
    "import math as mathematics\n",
    "mathematics.factorial(6)"
   ]
  },
  {
   "cell_type": "code",
   "execution_count": null,
   "metadata": {
    "id": "HV2wCo-YWFuG"
   },
   "outputs": [],
   "source": [
    "from math import sqrt as raiz\n",
    "raiz(36)\n"
   ]
  },
  {
   "cell_type": "code",
   "execution_count": null,
   "metadata": {
    "id": "zvC8Ax2DWFuG"
   },
   "outputs": [],
   "source": [
    "import pandas as pd # Para trabajar con tablas\n",
    "import matplotlib.pyplot as plt # visualización\n",
    "import seaborn as sns  # visualización tipo R\n",
    "from sklearn import linear_model # Modelamiento, regressiones machine learning\n",
    "import numpy as np #  procesamiento numèrico, algebra lineal, procesamiento de imágenes"
   ]
  },
  {
   "cell_type": "code",
   "execution_count": null,
   "metadata": {
    "id": "ffzljtGRWFuG"
   },
   "outputs": [],
   "source": []
  },
  {
   "cell_type": "markdown",
   "metadata": {
    "id": "95W0LNwEWFuG"
   },
   "source": [
    "### Ejemplo: frecuencia alélica\n",
    "Para practicar la codificación utilizando una estructura de programa más compleja, vamos a escribir una simulación sobre genética de poblaciones. Queremos simular una población de organismos N monoicos (es decir, hermafroditas), diploides (es decir, portadores de dos copias homólogas de cada cromosoma). Nos centramos en un gen en particular, que tiene dos formas alternativas (alelos), A y a. \n",
    "\n",
    "Inicialmente, a los individuos se les asigna un genotipo, recibiendo el alelo A con probabilidad p, y el alelo a con probabilidad 1 - p. En cada generación, los organismos se reproducen y luego mueren (generaciones que no se superponen). Para simplificar, asumimos que el tamaño de la población es constante, que no hay mutaciones, que no hay selección (es decir, los diferentes genotipos tienen la misma aptitud) y que el apareamiento es completamente aleatorio (para cada descendencia, elegimos dos padres).\n",
    "\n",
    "Luego usamos la simulación para explorar el concepto de deriva genética: para poblaciones pequeñas, incluso los alelos que no aportan una ventaja de aptitud pueden ir a la fijación (es decir, estar presentes en el 100% de los individuos).\n",
    "Escribir una simulación compleja puede parecer abrumador al principio, pero dividir el programa en sus componentes básicos (es decir, funciones separadas) lo hace mucho más fácil. Un programa \"maestro\" llamará a las funciones y producirá el resultado deseado. Antes de escribir cualquier código, esbozamos una posible división en funciones, escribiendo en inglés simple:\n",
    "\n",
    "* Una función que inicializa la población: debe tomar como entrada el tamaño de la población (N) y la probabilidad de tener un alelo A (p). Esta función devuelve una población completa.\n",
    "* Una función que calcula las frecuencias genotípicas, que necesitaremos para determinar si un alelo se ha fijado: la función debe tomar una población como entrada y generar el recuento de cada genotipo.\n",
    "* Una función de reproducción que toma la población actual y produce la próxima generación.\n",
    "\n",
    "También debemos elegir una estructura de datos para nuestro programa. Aquí representamos una población como una lista de tuplas, donde cada tupla es un individuo con sus dos cromosomas (por ejemplo, (\"A\", \"A\") sería un individuo homocigoto).\n",
    "Empezamos importando el módulo SciPy. Este módulo (cubierto en el capítulo 6) contiene muchas funciones científicas útiles. Aquí lo usamos solo para dibujar números aleatorios. Escribimos la primera función, que genera una población:"
   ]
  },
  {
   "cell_type": "code",
   "execution_count": 10,
   "metadata": {
    "id": "BoMblc5TWFuG"
   },
   "outputs": [],
   "source": [
    "# FUNCIÓN 1. de creación de una población con alelos al azar\n",
    "\n",
    "import scipy # for random numbers\n",
    "\n",
    "def build_population(N, p):\n",
    "    \"\"\"The population consists of N individuals.Each individual has two chromosomes, containing\n",
    "    allele \"A\" or \"a\", with probability p or 1-p, respectively.The population is a list of tuples.\n",
    "    \"\"\"\n",
    "    population = []\n",
    "    for i in range(N):\n",
    "        allele1 = \"A\"\n",
    "        if scipy.random.rand() > p:\n",
    "            allele1 = \"a\"\n",
    "        allele2 = \"A\"\n",
    "        if scipy.random.rand() > p:\n",
    "            allele2 = \"a\"\n",
    "        population.append((allele1, allele2))\n",
    "    return population"
   ]
  },
  {
   "cell_type": "code",
   "execution_count": 9,
   "metadata": {},
   "outputs": [],
   "source": [
    "#!pip install modulo"
   ]
  },
  {
   "cell_type": "code",
   "execution_count": 15,
   "metadata": {
    "colab": {
     "base_uri": "https://localhost:8080/"
    },
    "executionInfo": {
     "elapsed": 262,
     "status": "ok",
     "timestamp": 1643146448155,
     "user": {
      "displayName": "Moises Ruben Gualapuro Gualapuro",
      "photoUrl": "https://lh3.googleusercontent.com/a-/AOh14Gg-6jXWI5Vp_hkzSluGyIuLVjneL-URpHaaSkHpX6rGrCQabTQULQEZkArBtCk1PjyqtChepTxuGapUalAvaDJaXK0Clzs1OZrf0lNfjbuc7qsh0Mh_jRBiO1Uv67Y_umj077sgjJE4lnEnWT_T2vXBbGPr7Zo7wRZG46-Kbv4dISqO9JMRkThcdg_d79HjOBchu1NTk3GUl1WZITgvP7kaLqj0LmbVej4gN2_FY-aXwPkylJR9aLNjQdzd52As8bG1RBpYIbv_KdsennggoW6Ngi0Nq7eLoL9n86shcTR7y5SyaNtKrDnkThrQUhxzX-YUS3_pvXKo-lVg4sowpBoZHoyf3amLej55qJ0f83Nr9f0htCIxk-p-6o11nHDZOyiwmRvvs36iHYuwSIpYgqciUDhvmaNEiF-FI-PKSkhymAsbB1y_ZRVmKG7JMHm1o7sEpNsTlzhFnMuReLCLDd4YlllekKZwe-wK9kkoWLq5oFAizedK--_FNxcegsbE5tjImHWOhdfppv_TpMUhClJ9kL9owXxnMcidvLsqAC_1pqbYu5lgQKnD4ENN901gm0arWZ2oYfDraTDDb2gMvDxC5S_qr2coeexklGQYk8gA9FkVLhSo26BWyZyVNBGZ65o2QhLhOGHLVnp89iR_6asRT2wYph3WhEV4OzAgkZni2FKo78FPwOu8URYxV5smK-9l6BV2Aojc2RPNGz4OxC2qlUfOMgHcixnx2pGhlOIp3q8w35YFqlkp8XpoxOfS8_xZUw=s64",
      "userId": "00783441233645351804"
     },
     "user_tz": 300
    },
    "id": "AQtpCHb7WFuH",
    "outputId": "17aefe9c-1572-4aa1-ee9e-eba627c038c7"
   },
   "outputs": [
    {
     "data": {
      "text/plain": [
       "[('A', 'A'),\n",
       " ('a', 'A'),\n",
       " ('A', 'A'),\n",
       " ('a', 'A'),\n",
       " ('a', 'A'),\n",
       " ('A', 'A'),\n",
       " ('a', 'A'),\n",
       " ('a', 'a'),\n",
       " ('a', 'a'),\n",
       " ('a', 'a'),\n",
       " ('A', 'a'),\n",
       " ('A', 'a'),\n",
       " ('a', 'A'),\n",
       " ('A', 'a'),\n",
       " ('a', 'a'),\n",
       " ('A', 'a'),\n",
       " ('A', 'a'),\n",
       " ('a', 'a'),\n",
       " ('A', 'A'),\n",
       " ('a', 'a')]"
      ]
     },
     "execution_count": 15,
     "metadata": {},
     "output_type": "execute_result"
    }
   ],
   "source": [
    "build_population(N = 20, p = 0.53)"
   ]
  },
  {
   "cell_type": "code",
   "execution_count": 32,
   "metadata": {
    "id": "kcQYGDdeWFuH"
   },
   "outputs": [],
   "source": [
    "# FUNCIÓN 2. Conteo de pares de alelos\n",
    "def compute_frequencies(population):\n",
    "    \"\"\" Count the genotypes.Returns a dictionary of genotypic frequencies.\"\"\"\n",
    "    AA = population.count((\"A\", \"A\"))\n",
    "    Aa = population.count((\"A\", \"a\"))\n",
    "    aA = population.count((\"a\", \"A\"))\n",
    "    aa = population.count((\"a\", \"a\"))\n",
    "    return({\"AA\": AA, \"aa\": aa, \"Aa\": Aa, \"aA\": aA})"
   ]
  },
  {
   "cell_type": "code",
   "execution_count": 52,
   "metadata": {
    "id": "wDRqUM92WFuH"
   },
   "outputs": [],
   "source": [
    "import numpy as np\n",
    "np.random.seed(seed=123)\n",
    "my_pop = build_population(500, 0.27)"
   ]
  },
  {
   "cell_type": "code",
   "execution_count": 53,
   "metadata": {
    "id": "NsbXRBu1WFuH"
   },
   "outputs": [],
   "source": [
    "# FUNCIÓN 3. Creación de nueva población\n",
    "\n",
    "def reproduce_population(population):\n",
    "    \"\"\" Create new generation through reproduction. For each of N new offspring:\n",
    "    - choose the parents at random, \n",
    "    - the offspring receives a chromosome from each of the parents.\n",
    "    \"\"\"\n",
    "    new_generation = []\n",
    "    N = len(population)\n",
    "    for i in range(N):\n",
    "        # random integer between 0 and N-1\n",
    "        dad = scipy.random.randint(N)\n",
    "        mom = scipy.random.randint(N)\n",
    "        # which chromosome comes from mom\n",
    "        chr_mom = scipy.random.randint(2)\n",
    "        offspring = (population[mom][chr_mom], population[dad][1 - chr_mom])\n",
    "        #if offspring == (\"a\", \"a\"): \n",
    "          #next()\n",
    "        new_generation.append(offspring)\n",
    "    return new_generation"
   ]
  },
  {
   "cell_type": "code",
   "execution_count": 55,
   "metadata": {
    "colab": {
     "base_uri": "https://localhost:8080/"
    },
    "executionInfo": {
     "elapsed": 372,
     "status": "ok",
     "timestamp": 1643146797934,
     "user": {
      "displayName": "Moises Ruben Gualapuro Gualapuro",
      "photoUrl": "https://lh3.googleusercontent.com/a-/AOh14Gg-6jXWI5Vp_hkzSluGyIuLVjneL-URpHaaSkHpX6rGrCQabTQULQEZkArBtCk1PjyqtChepTxuGapUalAvaDJaXK0Clzs1OZrf0lNfjbuc7qsh0Mh_jRBiO1Uv67Y_umj077sgjJE4lnEnWT_T2vXBbGPr7Zo7wRZG46-Kbv4dISqO9JMRkThcdg_d79HjOBchu1NTk3GUl1WZITgvP7kaLqj0LmbVej4gN2_FY-aXwPkylJR9aLNjQdzd52As8bG1RBpYIbv_KdsennggoW6Ngi0Nq7eLoL9n86shcTR7y5SyaNtKrDnkThrQUhxzX-YUS3_pvXKo-lVg4sowpBoZHoyf3amLej55qJ0f83Nr9f0htCIxk-p-6o11nHDZOyiwmRvvs36iHYuwSIpYgqciUDhvmaNEiF-FI-PKSkhymAsbB1y_ZRVmKG7JMHm1o7sEpNsTlzhFnMuReLCLDd4YlllekKZwe-wK9kkoWLq5oFAizedK--_FNxcegsbE5tjImHWOhdfppv_TpMUhClJ9kL9owXxnMcidvLsqAC_1pqbYu5lgQKnD4ENN901gm0arWZ2oYfDraTDDb2gMvDxC5S_qr2coeexklGQYk8gA9FkVLhSo26BWyZyVNBGZ65o2QhLhOGHLVnp89iR_6asRT2wYph3WhEV4OzAgkZni2FKo78FPwOu8URYxV5smK-9l6BV2Aojc2RPNGz4OxC2qlUfOMgHcixnx2pGhlOIp3q8w35YFqlkp8XpoxOfS8_xZUw=s64",
      "userId": "00783441233645351804"
     },
     "user_tz": 300
    },
    "id": "PMQMKfpvWFuH",
    "outputId": "1fcaeb92-3581-49d3-9e5d-15a44c411344"
   },
   "outputs": [
    {
     "name": "stdout",
     "output_type": "stream",
     "text": [
      "{'AA': 29, 'aa': 273, 'Aa': 96, 'aA': 102}\n"
     ]
    },
    {
     "data": {
      "text/plain": [
       "0.454"
      ]
     },
     "execution_count": 55,
     "metadata": {},
     "output_type": "execute_result"
    }
   ],
   "source": [
    "fmy_pop = compute_frequencies(my_pop)\n",
    "print(fmy_pop)\n",
    "(500 - fmy_pop[\"aa\"])/500"
   ]
  },
  {
   "cell_type": "code",
   "execution_count": 56,
   "metadata": {
    "colab": {
     "base_uri": "https://localhost:8080/"
    },
    "executionInfo": {
     "elapsed": 5,
     "status": "ok",
     "timestamp": 1643147524891,
     "user": {
      "displayName": "Moises Ruben Gualapuro Gualapuro",
      "photoUrl": "https://lh3.googleusercontent.com/a-/AOh14Gg-6jXWI5Vp_hkzSluGyIuLVjneL-URpHaaSkHpX6rGrCQabTQULQEZkArBtCk1PjyqtChepTxuGapUalAvaDJaXK0Clzs1OZrf0lNfjbuc7qsh0Mh_jRBiO1Uv67Y_umj077sgjJE4lnEnWT_T2vXBbGPr7Zo7wRZG46-Kbv4dISqO9JMRkThcdg_d79HjOBchu1NTk3GUl1WZITgvP7kaLqj0LmbVej4gN2_FY-aXwPkylJR9aLNjQdzd52As8bG1RBpYIbv_KdsennggoW6Ngi0Nq7eLoL9n86shcTR7y5SyaNtKrDnkThrQUhxzX-YUS3_pvXKo-lVg4sowpBoZHoyf3amLej55qJ0f83Nr9f0htCIxk-p-6o11nHDZOyiwmRvvs36iHYuwSIpYgqciUDhvmaNEiF-FI-PKSkhymAsbB1y_ZRVmKG7JMHm1o7sEpNsTlzhFnMuReLCLDd4YlllekKZwe-wK9kkoWLq5oFAizedK--_FNxcegsbE5tjImHWOhdfppv_TpMUhClJ9kL9owXxnMcidvLsqAC_1pqbYu5lgQKnD4ENN901gm0arWZ2oYfDraTDDb2gMvDxC5S_qr2coeexklGQYk8gA9FkVLhSo26BWyZyVNBGZ65o2QhLhOGHLVnp89iR_6asRT2wYph3WhEV4OzAgkZni2FKo78FPwOu8URYxV5smK-9l6BV2Aojc2RPNGz4OxC2qlUfOMgHcixnx2pGhlOIp3q8w35YFqlkp8XpoxOfS8_xZUw=s64",
      "userId": "00783441233645351804"
     },
     "user_tz": 300
    },
    "id": "FIyVPX_1WFuI",
    "outputId": "416c9fc6-dc17-41f6-b5ac-60269308f5a2"
   },
   "outputs": [
    {
     "name": "stdout",
     "output_type": "stream",
     "text": [
      "{'AA': 29, 'aa': 273, 'Aa': 96, 'aA': 102}\n",
      "{'AA': 30, 'aa': 271, 'Aa': 102, 'aA': 97}\n",
      "{'AA': 36, 'aa': 267, 'Aa': 101, 'aA': 96}\n"
     ]
    }
   ],
   "source": [
    "print(compute_frequencies(my_pop))\n",
    "new_pop = reproduce_population(my_pop)\n",
    "new_pop2 = reproduce_population(new_pop)\n",
    "print(compute_frequencies(new_pop))\n",
    "print(compute_frequencies(new_pop2))"
   ]
  },
  {
   "cell_type": "markdown",
   "metadata": {
    "id": "SKdLXoj7WFuI"
   },
   "source": [
    "poblacion padre --> conteo frecuencias \n",
    "\n",
    "población padre --> nueva generación --> conteo de frecuencias\n"
   ]
  },
  {
   "cell_type": "markdown",
   "metadata": {
    "id": "2Z6y5ChnWFuI"
   },
   "source": [
    "## Ejecutando módulos\n",
    "\n",
    "* Un módulo también se puede ejecutar desde la consola, de la siguiente manera\n",
    "```bash\n",
    "python module.py\n",
    "```\n",
    "* ¿Cómo diferenciar lo que queremos que se ejecute cuando el módulo se importe y cuando el módulo se ejecute?\n",
    "    * El nombre del módulo se almacena en la variable `__name__`.\n",
    "    * Cuando el módulo se ejecuta en consola, esta variable toma el valor `__main__`"
   ]
  },
  {
   "cell_type": "code",
   "execution_count": null,
   "metadata": {
    "colab": {
     "base_uri": "https://localhost:8080/"
    },
    "executionInfo": {
     "elapsed": 302,
     "status": "ok",
     "timestamp": 1643149424632,
     "user": {
      "displayName": "Moises Ruben Gualapuro Gualapuro",
      "photoUrl": "https://lh3.googleusercontent.com/a-/AOh14Gg-6jXWI5Vp_hkzSluGyIuLVjneL-URpHaaSkHpX6rGrCQabTQULQEZkArBtCk1PjyqtChepTxuGapUalAvaDJaXK0Clzs1OZrf0lNfjbuc7qsh0Mh_jRBiO1Uv67Y_umj077sgjJE4lnEnWT_T2vXBbGPr7Zo7wRZG46-Kbv4dISqO9JMRkThcdg_d79HjOBchu1NTk3GUl1WZITgvP7kaLqj0LmbVej4gN2_FY-aXwPkylJR9aLNjQdzd52As8bG1RBpYIbv_KdsennggoW6Ngi0Nq7eLoL9n86shcTR7y5SyaNtKrDnkThrQUhxzX-YUS3_pvXKo-lVg4sowpBoZHoyf3amLej55qJ0f83Nr9f0htCIxk-p-6o11nHDZOyiwmRvvs36iHYuwSIpYgqciUDhvmaNEiF-FI-PKSkhymAsbB1y_ZRVmKG7JMHm1o7sEpNsTlzhFnMuReLCLDd4YlllekKZwe-wK9kkoWLq5oFAizedK--_FNxcegsbE5tjImHWOhdfppv_TpMUhClJ9kL9owXxnMcidvLsqAC_1pqbYu5lgQKnD4ENN901gm0arWZ2oYfDraTDDb2gMvDxC5S_qr2coeexklGQYk8gA9FkVLhSo26BWyZyVNBGZ65o2QhLhOGHLVnp89iR_6asRT2wYph3WhEV4OzAgkZni2FKo78FPwOu8URYxV5smK-9l6BV2Aojc2RPNGz4OxC2qlUfOMgHcixnx2pGhlOIp3q8w35YFqlkp8XpoxOfS8_xZUw=s64",
      "userId": "00783441233645351804"
     },
     "user_tz": 300
    },
    "id": "8VkIsuSVWFuI",
    "outputId": "0d05e21b-2f55-4466-bb8a-0b096481305d"
   },
   "outputs": [],
   "source": [
    "# import poblaciones as pbc\n",
    "\n",
    "pop0 = build_population(10, 0.35)\n",
    "allele_pop0 = compute_frequencies(pop0)\n",
    "pop1 = reproduce_population(pop0)\n",
    "allele_pop1 = compute_frequencies(pop1)\n",
    "\n",
    "print(pop0)\n",
    "print(allele_pop0)\n",
    "print(pop1)\n",
    "print(allele_pop1)\n"
   ]
  },
  {
   "cell_type": "code",
   "execution_count": null,
   "metadata": {
    "id": "CpcUnAkOWFuI"
   },
   "outputs": [],
   "source": [
    "# Crear una función utilizando funciones del módulo drift\n",
    "def simulate_drift(N, p):\n",
    "    # initialize the population\n",
    "    my_pop = build_population(N, p)\n",
    "    fixation = False # condiciòn incial de fijacion\n",
    "    num_generations = 0 # población parental\n",
    "    while fixation == False:\n",
    "        # compute genotype counts\n",
    "        genotype_counts = compute_frequencies(my_pop)\n",
    "        # if one allele went to fixation, end\n",
    "        if (genotype_counts[\"AA\"] == N or genotype_counts[\"aa\"] == N):\n",
    "            print(\"An allele reached fixation at generation\", num_generations)\n",
    "            print(\"The genotype counts are\")\n",
    "            print(genotype_counts)\n",
    "            fixation == True\n",
    "            break\n",
    "        # if not, reproduce\n",
    "        my_pop = reproduce_population(my_pop)\n",
    "        num_generations += 1\n",
    "    return num_generations, genotype_counts\n"
   ]
  },
  {
   "cell_type": "code",
   "execution_count": null,
   "metadata": {
    "colab": {
     "base_uri": "https://localhost:8080/"
    },
    "executionInfo": {
     "elapsed": 1596,
     "status": "ok",
     "timestamp": 1643151131619,
     "user": {
      "displayName": "Moises Ruben Gualapuro Gualapuro",
      "photoUrl": "https://lh3.googleusercontent.com/a-/AOh14Gg-6jXWI5Vp_hkzSluGyIuLVjneL-URpHaaSkHpX6rGrCQabTQULQEZkArBtCk1PjyqtChepTxuGapUalAvaDJaXK0Clzs1OZrf0lNfjbuc7qsh0Mh_jRBiO1Uv67Y_umj077sgjJE4lnEnWT_T2vXBbGPr7Zo7wRZG46-Kbv4dISqO9JMRkThcdg_d79HjOBchu1NTk3GUl1WZITgvP7kaLqj0LmbVej4gN2_FY-aXwPkylJR9aLNjQdzd52As8bG1RBpYIbv_KdsennggoW6Ngi0Nq7eLoL9n86shcTR7y5SyaNtKrDnkThrQUhxzX-YUS3_pvXKo-lVg4sowpBoZHoyf3amLej55qJ0f83Nr9f0htCIxk-p-6o11nHDZOyiwmRvvs36iHYuwSIpYgqciUDhvmaNEiF-FI-PKSkhymAsbB1y_ZRVmKG7JMHm1o7sEpNsTlzhFnMuReLCLDd4YlllekKZwe-wK9kkoWLq5oFAizedK--_FNxcegsbE5tjImHWOhdfppv_TpMUhClJ9kL9owXxnMcidvLsqAC_1pqbYu5lgQKnD4ENN901gm0arWZ2oYfDraTDDb2gMvDxC5S_qr2coeexklGQYk8gA9FkVLhSo26BWyZyVNBGZ65o2QhLhOGHLVnp89iR_6asRT2wYph3WhEV4OzAgkZni2FKo78FPwOu8URYxV5smK-9l6BV2Aojc2RPNGz4OxC2qlUfOMgHcixnx2pGhlOIp3q8w35YFqlkp8XpoxOfS8_xZUw=s64",
      "userId": "00783441233645351804"
     },
     "user_tz": 300
    },
    "id": "facOaP-BWFuJ",
    "outputId": "d58bb24a-439d-4469-9d1e-364d7b2069a0"
   },
   "outputs": [],
   "source": [
    "sim1 = simulate_drift(100, 0.5)\n",
    "sim1"
   ]
  },
  {
   "cell_type": "markdown",
   "metadata": {
    "id": "idPSp8PwWFuJ"
   },
   "source": [
    "Como la simulación implica aleatoriedad, entonces los valores cambian con cada ejecución. Si desea almacenar su población creada aleatoriamente, para luego poder trabajar con la misma versión exacta, puede usar el módulo `pickle`. Este módulo puede seleccionar objetos de Python, como tuplas, listas, conjuntos y diccionarios, lo que los convierte en un flujo de bytes que luego se puede eliminar. "
   ]
  },
  {
   "cell_type": "code",
   "execution_count": null,
   "metadata": {
    "colab": {
     "base_uri": "https://localhost:8080/"
    },
    "executionInfo": {
     "elapsed": 213,
     "status": "ok",
     "timestamp": 1643070366589,
     "user": {
      "displayName": "Moises Ruben Gualapuro Gualapuro",
      "photoUrl": "https://lh3.googleusercontent.com/a-/AOh14GhnM7GOAImOpQM_TNfn7Mu6tKV3tLSAVaecNjFivzLgO0hXscBkodtLXbzHYTnJmvaKdB_XpABFGRQTP7J_YbSTRQkFuKXH8RGMB49lSbnS7_cdUFR3WA8s8jwODg3IXdAFjNac6bBLHTdEqRCEeQKovVgbaS5dUtN52xI6X4R6lrxBkv4FVNdS0Ug3UFgbjFPhxboPW_cSX0QRmVxFxHHlPellHuKMI0q5YYwid4SYQ6JtK40rgQKxCz7DzRlmxBLFa5KkqNPEb5td7U-zV36L5SOgCgMmd6-w2hqwqFV4zk2Aun3VwIQBjuOa4hTn1RWKHGQ2xVgz25slvncNabl8bJhsrGpHCU1m2CCl-PHTDP-CY7HoWUD4tRgpGVEthnEsrKq1V4nEREAhFYGdmFJMl5JSzAruhITaOt19KLlPBjsk0SfT3H4c3cubU1qwzxz2TeU976j_yzQ6Dz4oCDEl6mwOQOf83Rw583kG1s9S1wm8V6UGOJtjqkr-Yso_L9Uuz2fJZT4RAb74xQSEF11znWBlTRsCuF1cBNTr9yM_1X2tQl1M0mD0NUaZGACNEkKwQ3Xl4bYoryBj7nBRqQjocLi3KGbhtrcqq3uuGEsyHhHwz9QEnRpwwvueaPJYdyGQ7-Si6FfhCXDVeTFUR6RkjHEOcMf8nJXNorITmSITDDQoLIK32SfI21wPQzknznArq9oBmfvG6HquV9BXrfxxu0butTt8foLWgui45uo0PToepS-Zb3HvzMHftsHmsylwUw=s64",
      "userId": "00783441233645351804"
     },
     "user_tz": 300
    },
    "id": "NL0gmKKaWFuJ",
    "outputId": "4cadad60-7e41-4c45-8e4c-5fee92d7c429"
   },
   "outputs": [],
   "source": [
    "import pickle\n",
    "# save Python object to file\n",
    "pickle.dump(my_pop, open(\"population.pickle\", \"wb\"))\n",
    "population = pickle.load(open(\"population.pickle\", \"rb\"))\n",
    "print(population)"
   ]
  },
  {
   "cell_type": "markdown",
   "metadata": {
    "id": "NCNPSxDzWFuJ"
   },
   "source": [
    "## Estilo de escritura\n",
    "\n",
    "Con la escritura de códigos se cumple la frase: `el código se lee con más frecuencia de lo que se escribe`. \n",
    "\n",
    "Es una buena práctica pensar en los potenciales lectores lectores de su código: \n",
    "\n",
    "* ¿Puede otro científico entender lo que está haciendo?\n",
    "    * ¿cómo lo está haciendo?\n",
    "    * ¿por qué lo está haciendo?\n",
    "    \n",
    "* Aún más importante, ¿podrá comprender su propio código dentro de seis meses? \n",
    "\n",
    "No se trata de una cuestión puramente académica, dado que la publicación de un artículo lleva mucho tiempo. Cuando las revisiones estén de vuelta y necesite modificar su código, tenerlo bien documentado y organizado le facilitará la vida. Las siguientes pautas están destinadas a aumentar la legibilidad de su código:\n",
    "\n",
    "* Utilice cuatro espacios por nivel de sangría; no pestañas.\n",
    "* Divida las líneas largas (especialmente los argumentos de las funciones) usando paréntesis:"
   ]
  },
  {
   "cell_type": "markdown",
   "metadata": {
    "id": "afgzqO4WWFuK"
   },
   "source": [
    "```python\n",
    "# CORRECTO:\n",
    "def my_function_name(argument1, argument2, \n",
    "                     argument3, argument4, \n",
    "                     argument5):\n",
    "    one_operation()\n",
    "    another_operation()\n",
    "    if condition:\n",
    "        yet_another_operation()\n",
    "    return my_value\n",
    "\n",
    "for each_item in my_list:\n",
    "    for each_element in my_item:\n",
    "        do_something()\n",
    "        \n",
    "        \n",
    "        \n",
    "# INCORRECTO:\n",
    "def my_function_name(\n",
    "    argument1, argument2,\n",
    "    argument3, argument4,\n",
    "    argument5):\n",
    "    one_operation()\n",
    "    another_operation()\n",
    "    if condition:\n",
    "        yet_another_operation()\n",
    "    return my_value\n",
    "\n",
    "\n",
    "for each_item in my_list:\n",
    "    for each_element in my_item:\n",
    "            do_something()\n",
    "\n",
    "```\n",
    "\n",
    "\n"
   ]
  },
  {
   "cell_type": "markdown",
   "metadata": {
    "id": "FeYFjO7_WFuK"
   },
   "source": [
    "* Separate functions using blank lines.\n",
    "* Use a new line for each operation:\n",
    "\n",
    "```python\n",
    "# CORRECTO:\n",
    "import scipy\n",
    "import re\n",
    "\n",
    "\n",
    "# INCORRECTO:\n",
    "import scipy,re\n",
    "\n",
    "```"
   ]
  },
  {
   "cell_type": "markdown",
   "metadata": {
    "id": "32rnGp-PWFuK"
   },
   "source": [
    "* Import packages and modules at the beginning of the file, in this order:\n",
    "    1. Standard modules (i.e., those shipped with Python)\n",
    "    2. Third-party modules (i.e., those developed by other groups)\n",
    "    3. Modules you have developed\n",
    "* Put spaces around operators (unless using the : to “slice” a list); use parentheses to clarify the precedence of operators:\n",
    "\n",
    "\n",
    "```python\n",
    "# CORRECTO:\n",
    "a = b ** c\n",
    "z = [a, b, c, d]\n",
    "n = n * (n - 1)\n",
    "k = (a * b) + (c * d)\n",
    "my_list = another_list[1:n]\n",
    "\n",
    "#\n",
    "# INCORRECTO:\n",
    "a=b**c\n",
    "z=[ a,b,c,d ]\n",
    "n =n*(n-1)\n",
    "k=a*b+c*d\n",
    "my_list = another_list[1 : n]\n",
    "```"
   ]
  },
  {
   "cell_type": "code",
   "execution_count": null,
   "metadata": {
    "id": "ZAHxI_n0WFuK",
    "outputId": "ab9a8232-cb5e-4963-dfc6-cdc965d38942"
   },
   "outputs": [],
   "source": [
    "## errores de sintaxis\n",
    "a = \"texto\" \n",
    "b = \"\"\n",
    "c = 2\n",
    "d ) 0.1\n",
    "a == b + c  + \"\"  + c + d"
   ]
  },
  {
   "cell_type": "code",
   "execution_count": null,
   "metadata": {
    "id": "C_FM0ACSWFuL",
    "outputId": "f5ede13d-30a1-4872-ffdd-402cf01fdf27"
   },
   "outputs": [],
   "source": [
    "# error de indentación\n",
    "\n",
    "for i in range(2):\n",
    "    for j in range(3):\n",
    "    print(i, j)"
   ]
  },
  {
   "cell_type": "code",
   "execution_count": null,
   "metadata": {
    "id": "FllIjjQaWFuL",
    "outputId": "b6e05762-2ba5-4086-e74e-43be5172b175"
   },
   "outputs": [],
   "source": [
    "a = [1, 2, 3]\n",
    "a[1]\n",
    "\n",
    "for i in range(len(a)): \n",
    "    print(a[i])\n",
    "    \n",
    "    \n",
    "a = {\"a\": 1, \"b\":  2}\n",
    "a[\"d\"]"
   ]
  },
  {
   "cell_type": "code",
   "execution_count": 60,
   "metadata": {
    "id": "NO3wg8XMWFuL"
   },
   "outputs": [
    {
     "name": "stdout",
     "output_type": "stream",
     "text": [
      "Hell\n"
     ]
    }
   ],
   "source": [
    "a = 2\n",
    "if a > 5:\n",
    "    print(a)\n",
    "else:\n",
    "    print(\"Hell\")"
   ]
  },
  {
   "cell_type": "markdown",
   "metadata": {
    "id": "Fq8e2vMTWFuL"
   },
   "source": [
    "### Manejando excepciones"
   ]
  },
  {
   "cell_type": "code",
   "execution_count": null,
   "metadata": {
    "colab": {
     "base_uri": "https://localhost:8080/",
     "height": 201
    },
    "executionInfo": {
     "elapsed": 229,
     "status": "error",
     "timestamp": 1643071227899,
     "user": {
      "displayName": "Moises Ruben Gualapuro Gualapuro",
      "photoUrl": "https://lh3.googleusercontent.com/a-/AOh14GhnM7GOAImOpQM_TNfn7Mu6tKV3tLSAVaecNjFivzLgO0hXscBkodtLXbzHYTnJmvaKdB_XpABFGRQTP7J_YbSTRQkFuKXH8RGMB49lSbnS7_cdUFR3WA8s8jwODg3IXdAFjNac6bBLHTdEqRCEeQKovVgbaS5dUtN52xI6X4R6lrxBkv4FVNdS0Ug3UFgbjFPhxboPW_cSX0QRmVxFxHHlPellHuKMI0q5YYwid4SYQ6JtK40rgQKxCz7DzRlmxBLFa5KkqNPEb5td7U-zV36L5SOgCgMmd6-w2hqwqFV4zk2Aun3VwIQBjuOa4hTn1RWKHGQ2xVgz25slvncNabl8bJhsrGpHCU1m2CCl-PHTDP-CY7HoWUD4tRgpGVEthnEsrKq1V4nEREAhFYGdmFJMl5JSzAruhITaOt19KLlPBjsk0SfT3H4c3cubU1qwzxz2TeU976j_yzQ6Dz4oCDEl6mwOQOf83Rw583kG1s9S1wm8V6UGOJtjqkr-Yso_L9Uuz2fJZT4RAb74xQSEF11znWBlTRsCuF1cBNTr9yM_1X2tQl1M0mD0NUaZGACNEkKwQ3Xl4bYoryBj7nBRqQjocLi3KGbhtrcqq3uuGEsyHhHwz9QEnRpwwvueaPJYdyGQ7-Si6FfhCXDVeTFUR6RkjHEOcMf8nJXNorITmSITDDQoLIK32SfI21wPQzknznArq9oBmfvG6HquV9BXrfxxu0butTt8foLWgui45uo0PToepS-Zb3HvzMHftsHmsylwUw=s64",
      "userId": "00783441233645351804"
     },
     "user_tz": 300
    },
    "id": "6cju5onqWFuL",
    "outputId": "38417294-4c19-40c9-d16f-ecdad999c41e"
   },
   "outputs": [],
   "source": [
    "x = 10\n",
    "y = 0\n",
    "\n",
    "x / y"
   ]
  },
  {
   "cell_type": "code",
   "execution_count": null,
   "metadata": {
    "colab": {
     "base_uri": "https://localhost:8080/"
    },
    "executionInfo": {
     "elapsed": 232,
     "status": "ok",
     "timestamp": 1643071407393,
     "user": {
      "displayName": "Moises Ruben Gualapuro Gualapuro",
      "photoUrl": "https://lh3.googleusercontent.com/a-/AOh14GhnM7GOAImOpQM_TNfn7Mu6tKV3tLSAVaecNjFivzLgO0hXscBkodtLXbzHYTnJmvaKdB_XpABFGRQTP7J_YbSTRQkFuKXH8RGMB49lSbnS7_cdUFR3WA8s8jwODg3IXdAFjNac6bBLHTdEqRCEeQKovVgbaS5dUtN52xI6X4R6lrxBkv4FVNdS0Ug3UFgbjFPhxboPW_cSX0QRmVxFxHHlPellHuKMI0q5YYwid4SYQ6JtK40rgQKxCz7DzRlmxBLFa5KkqNPEb5td7U-zV36L5SOgCgMmd6-w2hqwqFV4zk2Aun3VwIQBjuOa4hTn1RWKHGQ2xVgz25slvncNabl8bJhsrGpHCU1m2CCl-PHTDP-CY7HoWUD4tRgpGVEthnEsrKq1V4nEREAhFYGdmFJMl5JSzAruhITaOt19KLlPBjsk0SfT3H4c3cubU1qwzxz2TeU976j_yzQ6Dz4oCDEl6mwOQOf83Rw583kG1s9S1wm8V6UGOJtjqkr-Yso_L9Uuz2fJZT4RAb74xQSEF11znWBlTRsCuF1cBNTr9yM_1X2tQl1M0mD0NUaZGACNEkKwQ3Xl4bYoryBj7nBRqQjocLi3KGbhtrcqq3uuGEsyHhHwz9QEnRpwwvueaPJYdyGQ7-Si6FfhCXDVeTFUR6RkjHEOcMf8nJXNorITmSITDDQoLIK32SfI21wPQzknznArq9oBmfvG6HquV9BXrfxxu0butTt8foLWgui45uo0PToepS-Zb3HvzMHftsHmsylwUw=s64",
      "userId": "00783441233645351804"
     },
     "user_tz": 300
    },
    "id": "U5h39kNQWFuM",
    "outputId": "a5350bb8-d060-4b0b-d942-4164c9a4035b"
   },
   "outputs": [],
   "source": [
    "# Excepciones\n",
    "\n",
    "x = 10\n",
    "y = 0\n",
    "\n",
    "try: \n",
    "    print(x / y)\n",
    "except: \n",
    "    print(\"el denominador es cero, no existe la división\")\n",
    "\n"
   ]
  },
  {
   "cell_type": "code",
   "execution_count": 57,
   "metadata": {
    "colab": {
     "base_uri": "https://localhost:8080/",
     "height": 131
    },
    "executionInfo": {
     "elapsed": 31,
     "status": "error",
     "timestamp": 1643071095619,
     "user": {
      "displayName": "Moises Ruben Gualapuro Gualapuro",
      "photoUrl": "https://lh3.googleusercontent.com/a-/AOh14GhnM7GOAImOpQM_TNfn7Mu6tKV3tLSAVaecNjFivzLgO0hXscBkodtLXbzHYTnJmvaKdB_XpABFGRQTP7J_YbSTRQkFuKXH8RGMB49lSbnS7_cdUFR3WA8s8jwODg3IXdAFjNac6bBLHTdEqRCEeQKovVgbaS5dUtN52xI6X4R6lrxBkv4FVNdS0Ug3UFgbjFPhxboPW_cSX0QRmVxFxHHlPellHuKMI0q5YYwid4SYQ6JtK40rgQKxCz7DzRlmxBLFa5KkqNPEb5td7U-zV36L5SOgCgMmd6-w2hqwqFV4zk2Aun3VwIQBjuOa4hTn1RWKHGQ2xVgz25slvncNabl8bJhsrGpHCU1m2CCl-PHTDP-CY7HoWUD4tRgpGVEthnEsrKq1V4nEREAhFYGdmFJMl5JSzAruhITaOt19KLlPBjsk0SfT3H4c3cubU1qwzxz2TeU976j_yzQ6Dz4oCDEl6mwOQOf83Rw583kG1s9S1wm8V6UGOJtjqkr-Yso_L9Uuz2fJZT4RAb74xQSEF11znWBlTRsCuF1cBNTr9yM_1X2tQl1M0mD0NUaZGACNEkKwQ3Xl4bYoryBj7nBRqQjocLi3KGbhtrcqq3uuGEsyHhHwz9QEnRpwwvueaPJYdyGQ7-Si6FfhCXDVeTFUR6RkjHEOcMf8nJXNorITmSITDDQoLIK32SfI21wPQzknznArq9oBmfvG6HquV9BXrfxxu0butTt8foLWgui45uo0PToepS-Zb3HvzMHftsHmsylwUw=s64",
      "userId": "00783441233645351804"
     },
     "user_tz": 300
    },
    "id": "7ZV62UZtWFuM",
    "outputId": "c208238b-b2a0-4ec9-993a-470549791c66"
   },
   "outputs": [
    {
     "ename": "SyntaxError",
     "evalue": "invalid syntax (Temp/ipykernel_25064/1411504887.py, line 3)",
     "output_type": "error",
     "traceback": [
      "\u001b[1;36m  File \u001b[1;32m\"C:\\Users\\MoisesG\\AppData\\Local\\Temp/ipykernel_25064/1411504887.py\"\u001b[1;36m, line \u001b[1;32m3\u001b[0m\n\u001b[1;33m    iterar en el respositorio:\u001b[0m\n\u001b[1;37m           ^\u001b[0m\n\u001b[1;31mSyntaxError\u001b[0m\u001b[1;31m:\u001b[0m invalid syntax\n"
     ]
    }
   ],
   "source": [
    "list = [\"gen1\", \"gen2\", \"gen3\", \"gen4\"]\n",
    "\n",
    "iterar en el respositorio: \n",
    "try: \n",
    "    conexxion remota\n",
    "except:\n",
    "  print(\"Gen no se encuentra en el repositorio d GenBank\")\n",
    "  next()"
   ]
  },
  {
   "cell_type": "markdown",
   "metadata": {
    "id": "odJIwQPMWFuM"
   },
   "source": [
    "# Objetos\n",
    "\n",
    "* Un objeto en Python es una abstracción que:\n",
    "    * Tiene un tipo determinado.\n",
    "    * Contiene una representación interna de cirtos datos.\n",
    "        * a través de los atributos\n",
    "    * Provee una interfaz para interactuar con el objeto.\n",
    "        * a través de los metos\n",
    "* Un objeto, a través de los métodos, definine su comportamiento, pero oculta la implementación.\n",
    "    * Es un método de juntar unos datos y unos métodos.\n",
    "* Un objeto es una instancia de un tipo (o clase).\n",
    "    * `3` es una instancia de `int`\n",
    "    * `\"hola\"` es una instancia de `str`\n",
    "* Podemos saber el tipo de un objeto a través de la función `type()`\n",
    "* Podemos comprobar si un objeto es de un cierto tipo utilizando la funcion `isinstance()`"
   ]
  },
  {
   "cell_type": "markdown",
   "metadata": {},
   "source": [
    "1. Crear el modulo poblacionmendeliana\n",
    "2. Guardar las funciones de i) generación de la población, ii) conteo de frecuencias de alelos, y iii) reproducción de la población en el módulo del itemm (1). Cada función tiene que tener una explicación.\n",
    "3. Generar las poblaciones hasta la generación 500. \n",
    "4. Calcular las proporciones de AA, Aa, aA, aa de todas las generaciones. \n",
    "5. Generar el repositorio tarea6 con un README. \n",
    "6. Pegar el enlace del repositorio en Moodle"
   ]
  },
  {
   "cell_type": "code",
   "execution_count": null,
   "metadata": {
    "id": "9VI1DiBaWFuM"
   },
   "outputs": [],
   "source": [
    "a = 3\n",
    "print(type(a))\n",
    "\n",
    "b = \"hola\"\n",
    "print(type(b))\n",
    "\n",
    "c = [1, 2, 3]\n",
    "print(type(c))"
   ]
  },
  {
   "cell_type": "code",
   "execution_count": null,
   "metadata": {
    "id": "_Ua3CSNWWFuM"
   },
   "outputs": [],
   "source": [
    "print(isinstance(a, int))\n",
    "print(isinstance(a, str))\n",
    "print(isinstance(a, list))"
   ]
  },
  {
   "cell_type": "markdown",
   "metadata": {
    "id": "CUedM047WFuN"
   },
   "source": [
    "## Objetos y Clases\n",
    "\n",
    "* Un objeto es una instancia de una clase\n",
    "* Una clase es un nuevo tipo de datos\n",
    "* Para crear una clase en Python se utiliza la keyword `class`:\n",
    "```python\n",
    "class Clase(ClasePadre):\n",
    "    \"\"\"Docstring\"\"\"\n",
    "    statements\n",
    "```\n",
    "* Normalmente, las sentencias dentro de una clase serán las definciones de atributos (variables) y métodos (funciones).\n",
    "* Una clase puede heredar de una clase padre, heredando todos sus atributos y metodos.\n",
    "* La herencia es opcional, *pero*:\n",
    "    * En Python2 es conveniente heredar *siempre* de la clase `object`\n",
    "    * En Python3 no hace falta heredar de la clase `object`\n",
    "    * Para tratar de garantizar la compatibilidad, podemos heradar siempre de `object`.\n",
    "* En Python las clases no tienen un constructor, pero existe el método `__init__` que se utiliza para inicializar la misma.\n",
    "* Todos los métodos de una clase deben tener como primer argumento `self`, que se igualará de forma automática con la referencia al propio objeto cuando se invoque el método."
   ]
  },
  {
   "cell_type": "code",
   "execution_count": null,
   "metadata": {
    "colab": {
     "base_uri": "https://localhost:8080/"
    },
    "executionInfo": {
     "elapsed": 417,
     "status": "ok",
     "timestamp": 1643072553574,
     "user": {
      "displayName": "Moises Ruben Gualapuro Gualapuro",
      "photoUrl": "https://lh3.googleusercontent.com/a-/AOh14GhnM7GOAImOpQM_TNfn7Mu6tKV3tLSAVaecNjFivzLgO0hXscBkodtLXbzHYTnJmvaKdB_XpABFGRQTP7J_YbSTRQkFuKXH8RGMB49lSbnS7_cdUFR3WA8s8jwODg3IXdAFjNac6bBLHTdEqRCEeQKovVgbaS5dUtN52xI6X4R6lrxBkv4FVNdS0Ug3UFgbjFPhxboPW_cSX0QRmVxFxHHlPellHuKMI0q5YYwid4SYQ6JtK40rgQKxCz7DzRlmxBLFa5KkqNPEb5td7U-zV36L5SOgCgMmd6-w2hqwqFV4zk2Aun3VwIQBjuOa4hTn1RWKHGQ2xVgz25slvncNabl8bJhsrGpHCU1m2CCl-PHTDP-CY7HoWUD4tRgpGVEthnEsrKq1V4nEREAhFYGdmFJMl5JSzAruhITaOt19KLlPBjsk0SfT3H4c3cubU1qwzxz2TeU976j_yzQ6Dz4oCDEl6mwOQOf83Rw583kG1s9S1wm8V6UGOJtjqkr-Yso_L9Uuz2fJZT4RAb74xQSEF11znWBlTRsCuF1cBNTr9yM_1X2tQl1M0mD0NUaZGACNEkKwQ3Xl4bYoryBj7nBRqQjocLi3KGbhtrcqq3uuGEsyHhHwz9QEnRpwwvueaPJYdyGQ7-Si6FfhCXDVeTFUR6RkjHEOcMf8nJXNorITmSITDDQoLIK32SfI21wPQzknznArq9oBmfvG6HquV9BXrfxxu0butTt8foLWgui45uo0PToepS-Zb3HvzMHftsHmsylwUw=s64",
      "userId": "00783441233645351804"
     },
     "user_tz": 300
    },
    "id": "rzNxfvdQWFuN",
    "outputId": "c311c677-28dc-4ba2-cde7-0d153ebb5545"
   },
   "outputs": [],
   "source": [
    "class Coordinate(object):  # Clase\n",
    "    \"\"\"A coordinate with an x and y value.\"\"\"\n",
    "    \n",
    "    def __init__(self, x, y):\n",
    "        \"\"\"Initialize the object with x and y\"\"\"\n",
    "        self.x = x\n",
    "        self.y = y\n",
    "        \n",
    "help(Coordinate)  # Todo en Python es un objeto\n",
    "        \n",
    "c = Coordinate(3, 4)  # creo un objeto de la clase Coordenada\n",
    "d = Coordinate(-2, 1)  # creo un objeto de la clase Coordenada\n",
    "print(type(c))  # c contiene una referencia al objeto\n"
   ]
  },
  {
   "cell_type": "code",
   "execution_count": null,
   "metadata": {
    "colab": {
     "base_uri": "https://localhost:8080/"
    },
    "executionInfo": {
     "elapsed": 8,
     "status": "ok",
     "timestamp": 1643072632996,
     "user": {
      "displayName": "Moises Ruben Gualapuro Gualapuro",
      "photoUrl": "https://lh3.googleusercontent.com/a-/AOh14GhnM7GOAImOpQM_TNfn7Mu6tKV3tLSAVaecNjFivzLgO0hXscBkodtLXbzHYTnJmvaKdB_XpABFGRQTP7J_YbSTRQkFuKXH8RGMB49lSbnS7_cdUFR3WA8s8jwODg3IXdAFjNac6bBLHTdEqRCEeQKovVgbaS5dUtN52xI6X4R6lrxBkv4FVNdS0Ug3UFgbjFPhxboPW_cSX0QRmVxFxHHlPellHuKMI0q5YYwid4SYQ6JtK40rgQKxCz7DzRlmxBLFa5KkqNPEb5td7U-zV36L5SOgCgMmd6-w2hqwqFV4zk2Aun3VwIQBjuOa4hTn1RWKHGQ2xVgz25slvncNabl8bJhsrGpHCU1m2CCl-PHTDP-CY7HoWUD4tRgpGVEthnEsrKq1V4nEREAhFYGdmFJMl5JSzAruhITaOt19KLlPBjsk0SfT3H4c3cubU1qwzxz2TeU976j_yzQ6Dz4oCDEl6mwOQOf83Rw583kG1s9S1wm8V6UGOJtjqkr-Yso_L9Uuz2fJZT4RAb74xQSEF11znWBlTRsCuF1cBNTr9yM_1X2tQl1M0mD0NUaZGACNEkKwQ3Xl4bYoryBj7nBRqQjocLi3KGbhtrcqq3uuGEsyHhHwz9QEnRpwwvueaPJYdyGQ7-Si6FfhCXDVeTFUR6RkjHEOcMf8nJXNorITmSITDDQoLIK32SfI21wPQzknznArq9oBmfvG6HquV9BXrfxxu0butTt8foLWgui45uo0PToepS-Zb3HvzMHftsHmsylwUw=s64",
      "userId": "00783441233645351804"
     },
     "user_tz": 300
    },
    "id": "1IkStkY-wYXV",
    "outputId": "c9491775-2b35-48b4-ffa5-92465dd893a9"
   },
   "outputs": [],
   "source": [
    "listc = [c.x, c.y]\n",
    "listc"
   ]
  },
  {
   "cell_type": "markdown",
   "metadata": {
    "id": "Cj09-fd7WFuN"
   },
   "source": [
    "## Métodos\n",
    "\n",
    "* Un método es una función que funciona en el contexto de la clase.\n",
    "* Cuando se invoca un método de un objeto, Python siempre pasa como primer argumento la referencia al objeto.\n",
    "* La convención es llamar a este primer argumento `self`."
   ]
  },
  {
   "cell_type": "code",
   "execution_count": null,
   "metadata": {
    "id": "i6ZtV1fgWFuN"
   },
   "outputs": [],
   "source": [
    "class Coordinate(object):  # Clase\n",
    "    \"\"\"A coordinate with an x and y value.\"\"\"\n",
    "    \n",
    "    def __init__(self, x, y):\n",
    "        \"\"\"Initialize the object with x and y\"\"\"\n",
    "        self.x = x\n",
    "        self.y = y\n",
    "        \n",
    "    def distance(self, other):\n",
    "        \"\"\" Returns the euclidean distance between two points \"\"\"\n",
    "        x_diff_sq = (self.x - other.x)**2\n",
    "        y_diff_sq = (self.y - other.y)**2\n",
    "        \n",
    "        return (x_diff_sq + y_diff_sq)**0.5 "
   ]
  },
  {
   "cell_type": "code",
   "execution_count": null,
   "metadata": {
    "colab": {
     "background_save": true,
     "base_uri": "https://localhost:8080/"
    },
    "executionInfo": {
     "elapsed": 16,
     "status": "ok",
     "timestamp": 1643072911046,
     "user": {
      "displayName": "Moises Ruben Gualapuro Gualapuro",
      "photoUrl": "https://lh3.googleusercontent.com/a-/AOh14GhnM7GOAImOpQM_TNfn7Mu6tKV3tLSAVaecNjFivzLgO0hXscBkodtLXbzHYTnJmvaKdB_XpABFGRQTP7J_YbSTRQkFuKXH8RGMB49lSbnS7_cdUFR3WA8s8jwODg3IXdAFjNac6bBLHTdEqRCEeQKovVgbaS5dUtN52xI6X4R6lrxBkv4FVNdS0Ug3UFgbjFPhxboPW_cSX0QRmVxFxHHlPellHuKMI0q5YYwid4SYQ6JtK40rgQKxCz7DzRlmxBLFa5KkqNPEb5td7U-zV36L5SOgCgMmd6-w2hqwqFV4zk2Aun3VwIQBjuOa4hTn1RWKHGQ2xVgz25slvncNabl8bJhsrGpHCU1m2CCl-PHTDP-CY7HoWUD4tRgpGVEthnEsrKq1V4nEREAhFYGdmFJMl5JSzAruhITaOt19KLlPBjsk0SfT3H4c3cubU1qwzxz2TeU976j_yzQ6Dz4oCDEl6mwOQOf83Rw583kG1s9S1wm8V6UGOJtjqkr-Yso_L9Uuz2fJZT4RAb74xQSEF11znWBlTRsCuF1cBNTr9yM_1X2tQl1M0mD0NUaZGACNEkKwQ3Xl4bYoryBj7nBRqQjocLi3KGbhtrcqq3uuGEsyHhHwz9QEnRpwwvueaPJYdyGQ7-Si6FfhCXDVeTFUR6RkjHEOcMf8nJXNorITmSITDDQoLIK32SfI21wPQzknznArq9oBmfvG6HquV9BXrfxxu0butTt8foLWgui45uo0PToepS-Zb3HvzMHftsHmsylwUw=s64",
      "userId": "00783441233645351804"
     },
     "user_tz": 300
    },
    "id": "2BCQvvNJWFuN",
    "outputId": "90abe335-91a9-419b-f8c8-ac809b3e0d15"
   },
   "outputs": [],
   "source": [
    "c = Coordinate(1, 2)\n",
    "d = Coordinate(7, 9)\n",
    "\n",
    "c.distance(d)"
   ]
  },
  {
   "cell_type": "markdown",
   "metadata": {
    "id": "A1jnUkXXWFuO"
   },
   "source": [
    "### Métodos especiales\n",
    "\n",
    "* Hay algunos [métodos especiales](https://docs.python.org/3/reference/datamodel.html#special-method-names) que Python invoca cuando se realizan ciertas operationes.\n",
    "    * Por ejemplo cuando se suman dos objetos\n",
    "    * O cuando se imprime un objeto."
   ]
  },
  {
   "cell_type": "code",
   "execution_count": null,
   "metadata": {
    "colab": {
     "base_uri": "https://localhost:8080/"
    },
    "executionInfo": {
     "elapsed": 14,
     "status": "ok",
     "timestamp": 1643072911047,
     "user": {
      "displayName": "Moises Ruben Gualapuro Gualapuro",
      "photoUrl": "https://lh3.googleusercontent.com/a-/AOh14GhnM7GOAImOpQM_TNfn7Mu6tKV3tLSAVaecNjFivzLgO0hXscBkodtLXbzHYTnJmvaKdB_XpABFGRQTP7J_YbSTRQkFuKXH8RGMB49lSbnS7_cdUFR3WA8s8jwODg3IXdAFjNac6bBLHTdEqRCEeQKovVgbaS5dUtN52xI6X4R6lrxBkv4FVNdS0Ug3UFgbjFPhxboPW_cSX0QRmVxFxHHlPellHuKMI0q5YYwid4SYQ6JtK40rgQKxCz7DzRlmxBLFa5KkqNPEb5td7U-zV36L5SOgCgMmd6-w2hqwqFV4zk2Aun3VwIQBjuOa4hTn1RWKHGQ2xVgz25slvncNabl8bJhsrGpHCU1m2CCl-PHTDP-CY7HoWUD4tRgpGVEthnEsrKq1V4nEREAhFYGdmFJMl5JSzAruhITaOt19KLlPBjsk0SfT3H4c3cubU1qwzxz2TeU976j_yzQ6Dz4oCDEl6mwOQOf83Rw583kG1s9S1wm8V6UGOJtjqkr-Yso_L9Uuz2fJZT4RAb74xQSEF11znWBlTRsCuF1cBNTr9yM_1X2tQl1M0mD0NUaZGACNEkKwQ3Xl4bYoryBj7nBRqQjocLi3KGbhtrcqq3uuGEsyHhHwz9QEnRpwwvueaPJYdyGQ7-Si6FfhCXDVeTFUR6RkjHEOcMf8nJXNorITmSITDDQoLIK32SfI21wPQzknznArq9oBmfvG6HquV9BXrfxxu0butTt8foLWgui45uo0PToepS-Zb3HvzMHftsHmsylwUw=s64",
      "userId": "00783441233645351804"
     },
     "user_tz": 300
    },
    "id": "KgOUCEE6WFuO",
    "outputId": "b78dfd7a-9bfe-4e50-f824-d5bc73283787"
   },
   "outputs": [],
   "source": [
    "# Ejemplo: imprimir el objeto\n",
    "\n",
    "print(c)"
   ]
  },
  {
   "cell_type": "markdown",
   "metadata": {
    "id": "mIhoSd1mWFuO"
   },
   "source": [
    "* Podemos sobreescribir esos métodos para realizar la acción que nosotros queramos\n",
    "    * Por ejemplo, mostrar información sobre el propio objeto cuando se imprime, sobreescribiendo el método `__str__`"
   ]
  },
  {
   "cell_type": "code",
   "execution_count": null,
   "metadata": {
    "id": "Q8SXdYwhWFuO"
   },
   "outputs": [],
   "source": [
    "class Coordinate(object):  # Clase\n",
    "    \"\"\"A coordinate with an x and y value.\"\"\"\n",
    "    \n",
    "    def __init__(self, x, y):\n",
    "        \"\"\"Initialize the object with x and y\"\"\"\n",
    "        self.x = x\n",
    "        self.y = y\n",
    "        \n",
    "    def distance(self, other):\n",
    "        \"\"\" Returns the euclidean distance between two points \"\"\"\n",
    "        x_diff_sq = (self.x - other.x)**2\n",
    "        y_diff_sq = (self.y - other.y)**2\n",
    "        \n",
    "        return (x_diff_sq + y_diff_sq)**0.5\n",
    "    \n",
    "    def __str__(self):\n",
    "        return \"<Coordinate (\" + str(self.x) + \", \" + str(self.y) + \")>\""
   ]
  },
  {
   "cell_type": "code",
   "execution_count": null,
   "metadata": {
    "colab": {
     "base_uri": "https://localhost:8080/"
    },
    "executionInfo": {
     "elapsed": 12,
     "status": "ok",
     "timestamp": 1643072911048,
     "user": {
      "displayName": "Moises Ruben Gualapuro Gualapuro",
      "photoUrl": "https://lh3.googleusercontent.com/a-/AOh14GhnM7GOAImOpQM_TNfn7Mu6tKV3tLSAVaecNjFivzLgO0hXscBkodtLXbzHYTnJmvaKdB_XpABFGRQTP7J_YbSTRQkFuKXH8RGMB49lSbnS7_cdUFR3WA8s8jwODg3IXdAFjNac6bBLHTdEqRCEeQKovVgbaS5dUtN52xI6X4R6lrxBkv4FVNdS0Ug3UFgbjFPhxboPW_cSX0QRmVxFxHHlPellHuKMI0q5YYwid4SYQ6JtK40rgQKxCz7DzRlmxBLFa5KkqNPEb5td7U-zV36L5SOgCgMmd6-w2hqwqFV4zk2Aun3VwIQBjuOa4hTn1RWKHGQ2xVgz25slvncNabl8bJhsrGpHCU1m2CCl-PHTDP-CY7HoWUD4tRgpGVEthnEsrKq1V4nEREAhFYGdmFJMl5JSzAruhITaOt19KLlPBjsk0SfT3H4c3cubU1qwzxz2TeU976j_yzQ6Dz4oCDEl6mwOQOf83Rw583kG1s9S1wm8V6UGOJtjqkr-Yso_L9Uuz2fJZT4RAb74xQSEF11znWBlTRsCuF1cBNTr9yM_1X2tQl1M0mD0NUaZGACNEkKwQ3Xl4bYoryBj7nBRqQjocLi3KGbhtrcqq3uuGEsyHhHwz9QEnRpwwvueaPJYdyGQ7-Si6FfhCXDVeTFUR6RkjHEOcMf8nJXNorITmSITDDQoLIK32SfI21wPQzknznArq9oBmfvG6HquV9BXrfxxu0butTt8foLWgui45uo0PToepS-Zb3HvzMHftsHmsylwUw=s64",
      "userId": "00783441233645351804"
     },
     "user_tz": 300
    },
    "id": "XozTs0vJWFuP",
    "outputId": "9d50a5e1-96a4-4083-fde1-afe6c65589ad"
   },
   "outputs": [],
   "source": [
    "c = Coordinate(4, 7)\n",
    "print(c)"
   ]
  },
  {
   "cell_type": "markdown",
   "metadata": {
    "id": "4fb5JDD2WFuP"
   },
   "source": [
    "Ejemplos de otros métodos:\n",
    " * `__add__(self, other)`: `self + other` \n",
    " * `__sub__(self, other)`: `self - other`\n",
    " * `__eq__(self, other)`: `self == other`\n",
    " * `__lt__(self, other)`: `self < other`\n",
    " * `__len__(self)`: `len(self)`\n",
    " * `__str__(self)`: `print self`"
   ]
  },
  {
   "cell_type": "code",
   "execution_count": null,
   "metadata": {
    "colab": {
     "base_uri": "https://localhost:8080/"
    },
    "executionInfo": {
     "elapsed": 10,
     "status": "ok",
     "timestamp": 1643072911048,
     "user": {
      "displayName": "Moises Ruben Gualapuro Gualapuro",
      "photoUrl": "https://lh3.googleusercontent.com/a-/AOh14GhnM7GOAImOpQM_TNfn7Mu6tKV3tLSAVaecNjFivzLgO0hXscBkodtLXbzHYTnJmvaKdB_XpABFGRQTP7J_YbSTRQkFuKXH8RGMB49lSbnS7_cdUFR3WA8s8jwODg3IXdAFjNac6bBLHTdEqRCEeQKovVgbaS5dUtN52xI6X4R6lrxBkv4FVNdS0Ug3UFgbjFPhxboPW_cSX0QRmVxFxHHlPellHuKMI0q5YYwid4SYQ6JtK40rgQKxCz7DzRlmxBLFa5KkqNPEb5td7U-zV36L5SOgCgMmd6-w2hqwqFV4zk2Aun3VwIQBjuOa4hTn1RWKHGQ2xVgz25slvncNabl8bJhsrGpHCU1m2CCl-PHTDP-CY7HoWUD4tRgpGVEthnEsrKq1V4nEREAhFYGdmFJMl5JSzAruhITaOt19KLlPBjsk0SfT3H4c3cubU1qwzxz2TeU976j_yzQ6Dz4oCDEl6mwOQOf83Rw583kG1s9S1wm8V6UGOJtjqkr-Yso_L9Uuz2fJZT4RAb74xQSEF11znWBlTRsCuF1cBNTr9yM_1X2tQl1M0mD0NUaZGACNEkKwQ3Xl4bYoryBj7nBRqQjocLi3KGbhtrcqq3uuGEsyHhHwz9QEnRpwwvueaPJYdyGQ7-Si6FfhCXDVeTFUR6RkjHEOcMf8nJXNorITmSITDDQoLIK32SfI21wPQzknznArq9oBmfvG6HquV9BXrfxxu0butTt8foLWgui45uo0PToepS-Zb3HvzMHftsHmsylwUw=s64",
      "userId": "00783441233645351804"
     },
     "user_tz": 300
    },
    "id": "MBSbyj_6WFuP",
    "outputId": "7ce57bb8-c7f5-4eec-f964-28732905cac5"
   },
   "outputs": [],
   "source": [
    "class Coordinate(object):  # Clase\n",
    "    \"\"\"A coordinate with an x and y value.\"\"\"\n",
    "    \n",
    "    def __init__(self, x, y):\n",
    "        \"\"\"Initialize the object with x and y\"\"\"\n",
    "        self.x = x\n",
    "        self.y = y\n",
    "        \n",
    "    def distance(self, other):\n",
    "        \"\"\" Returns the euclidean distance between two points \"\"\"\n",
    "        x_diff_sq = (self.x - other.x)**2\n",
    "        y_diff_sq = (self.y - other.y)**2\n",
    "        \n",
    "        return (x_diff_sq + y_diff_sq)**0.5\n",
    "    \n",
    "    def __str__(self):\n",
    "        return \"<Coordinate (\" + str(self.x) + \", \" + str(self.y) + \")>\"\n",
    "    \n",
    "    def __add__(self, other):\n",
    "        return Coordinate(self.x + other.x, self.y + other.y)\n",
    "    \n",
    "c = Coordinate(5, 4)\n",
    "d = Coordinate(3, 3)\n",
    "e = c + d\n",
    "print(e)"
   ]
  },
  {
   "cell_type": "markdown",
   "metadata": {
    "id": "UIPjnj-sWFuQ"
   },
   "source": [
    "## Herencia\n",
    "\n",
    "* Una clase puede heredar de otras clases.\n",
    "* Podemos definir una jerarquía de clases padre e hijo.\n",
    "* Una clase hijo hereda todos los atributos y métodos de las clases padre\n",
    "* Una clase hijo puede añadir más atributos y métodos, o reemplazar algunos."
   ]
  },
  {
   "cell_type": "code",
   "execution_count": null,
   "metadata": {
    "colab": {
     "base_uri": "https://localhost:8080/"
    },
    "executionInfo": {
     "elapsed": 664,
     "status": "ok",
     "timestamp": 1643144761910,
     "user": {
      "displayName": "Moises Ruben Gualapuro Gualapuro",
      "photoUrl": "https://lh3.googleusercontent.com/a-/AOh14Gg-6jXWI5Vp_hkzSluGyIuLVjneL-URpHaaSkHpX6rGrCQabTQULQEZkArBtCk1PjyqtChepTxuGapUalAvaDJaXK0Clzs1OZrf0lNfjbuc7qsh0Mh_jRBiO1Uv67Y_umj077sgjJE4lnEnWT_T2vXBbGPr7Zo7wRZG46-Kbv4dISqO9JMRkThcdg_d79HjOBchu1NTk3GUl1WZITgvP7kaLqj0LmbVej4gN2_FY-aXwPkylJR9aLNjQdzd52As8bG1RBpYIbv_KdsennggoW6Ngi0Nq7eLoL9n86shcTR7y5SyaNtKrDnkThrQUhxzX-YUS3_pvXKo-lVg4sowpBoZHoyf3amLej55qJ0f83Nr9f0htCIxk-p-6o11nHDZOyiwmRvvs36iHYuwSIpYgqciUDhvmaNEiF-FI-PKSkhymAsbB1y_ZRVmKG7JMHm1o7sEpNsTlzhFnMuReLCLDd4YlllekKZwe-wK9kkoWLq5oFAizedK--_FNxcegsbE5tjImHWOhdfppv_TpMUhClJ9kL9owXxnMcidvLsqAC_1pqbYu5lgQKnD4ENN901gm0arWZ2oYfDraTDDb2gMvDxC5S_qr2coeexklGQYk8gA9FkVLhSo26BWyZyVNBGZ65o2QhLhOGHLVnp89iR_6asRT2wYph3WhEV4OzAgkZni2FKo78FPwOu8URYxV5smK-9l6BV2Aojc2RPNGz4OxC2qlUfOMgHcixnx2pGhlOIp3q8w35YFqlkp8XpoxOfS8_xZUw=s64",
      "userId": "00783441233645351804"
     },
     "user_tz": 300
    },
    "id": "zsuD3Jf4WFuQ",
    "outputId": "6992ec13-a98d-4963-c7e9-5ede44feaade"
   },
   "outputs": [],
   "source": [
    "class Animal(object):\n",
    "    species = None\n",
    "    \n",
    "    def __init__(self, age, name):\n",
    "        self.age = age\n",
    "        self.name = name\n",
    "        \n",
    "    def make_noise(self):\n",
    "        print(\"I do not know which animal I am, I cannot make noise!\")\n",
    "        \n",
    "    def __str__(self):\n",
    "        return \"<Animal of species \"+self.species+\" named \"+self.name+\">\"\n",
    "    \n",
    "    \n",
    "class Rabbit(Animal):\n",
    "    species = \"Rabbit\"\n",
    "    \n",
    "    def is_furry(self):\n",
    "        return True\n",
    "\n",
    "    def make_noise(self):\n",
    "        print(\"Rabbits do not make noise\")\n",
    "\n",
    "    \n",
    "class Cow(Animal):\n",
    "    species = \"Cow\"\n",
    "    \n",
    "    def make_noise(self):\n",
    "        print(\"Mooo\")\n",
    "        \n",
    "r = Rabbit(5, \"flufy\")\n",
    "c = Cow(1, \"foo\")\n",
    "\n",
    "r.make_noise()\n",
    "c.make_noise()"
   ]
  },
  {
   "cell_type": "markdown",
   "metadata": {
    "id": "WTjGTG8pWFuQ"
   },
   "source": [
    "* Se puede llamar a los métodos de la clase padre mediante la función `super`"
   ]
  },
  {
   "cell_type": "code",
   "execution_count": null,
   "metadata": {
    "id": "1CynXJh4WFuQ"
   },
   "outputs": [],
   "source": [
    "class StrangeAnimal(Animal):\n",
    "    species = \"unknown\"\n",
    "    \n",
    "    def __init__(self, age, name, attribute):\n",
    "        super(StrangeAnimal, self).__init__(age, name)"
   ]
  },
  {
   "cell_type": "code",
   "execution_count": null,
   "metadata": {
    "colab": {
     "base_uri": "https://localhost:8080/"
    },
    "executionInfo": {
     "elapsed": 344,
     "status": "ok",
     "timestamp": 1643144784409,
     "user": {
      "displayName": "Moises Ruben Gualapuro Gualapuro",
      "photoUrl": "https://lh3.googleusercontent.com/a-/AOh14Gg-6jXWI5Vp_hkzSluGyIuLVjneL-URpHaaSkHpX6rGrCQabTQULQEZkArBtCk1PjyqtChepTxuGapUalAvaDJaXK0Clzs1OZrf0lNfjbuc7qsh0Mh_jRBiO1Uv67Y_umj077sgjJE4lnEnWT_T2vXBbGPr7Zo7wRZG46-Kbv4dISqO9JMRkThcdg_d79HjOBchu1NTk3GUl1WZITgvP7kaLqj0LmbVej4gN2_FY-aXwPkylJR9aLNjQdzd52As8bG1RBpYIbv_KdsennggoW6Ngi0Nq7eLoL9n86shcTR7y5SyaNtKrDnkThrQUhxzX-YUS3_pvXKo-lVg4sowpBoZHoyf3amLej55qJ0f83Nr9f0htCIxk-p-6o11nHDZOyiwmRvvs36iHYuwSIpYgqciUDhvmaNEiF-FI-PKSkhymAsbB1y_ZRVmKG7JMHm1o7sEpNsTlzhFnMuReLCLDd4YlllekKZwe-wK9kkoWLq5oFAizedK--_FNxcegsbE5tjImHWOhdfppv_TpMUhClJ9kL9owXxnMcidvLsqAC_1pqbYu5lgQKnD4ENN901gm0arWZ2oYfDraTDDb2gMvDxC5S_qr2coeexklGQYk8gA9FkVLhSo26BWyZyVNBGZ65o2QhLhOGHLVnp89iR_6asRT2wYph3WhEV4OzAgkZni2FKo78FPwOu8URYxV5smK-9l6BV2Aojc2RPNGz4OxC2qlUfOMgHcixnx2pGhlOIp3q8w35YFqlkp8XpoxOfS8_xZUw=s64",
      "userId": "00783441233645351804"
     },
     "user_tz": 300
    },
    "id": "4sugklRHWFuR",
    "outputId": "0cfbcece-483c-4937-ce70-1a74a711aba1"
   },
   "outputs": [],
   "source": [
    "s = StrangeAnimal(10, \"foo\", \"bar\")\n",
    "print(s)"
   ]
  },
  {
   "cell_type": "markdown",
   "metadata": {
    "id": "2-iJeQpcWFuR"
   },
   "source": [
    "Crear una clase `Fraccion` que implemente la representación de un número como una fracción (i.e. numerador/denominador).\n",
    "\n",
    "Debe implementar los siguientes métodos:\n",
    "* Suma\n",
    "* Resta\n",
    "* Multiplicación\n",
    "* Inversa\n",
    "* Imprimir su representación\n",
    "* Extra: Posibilidad de convertir el objeto a flotante."
   ]
  },
  {
   "cell_type": "code",
   "execution_count": null,
   "metadata": {
    "id": "W_ZMz5olWFuR"
   },
   "outputs": [],
   "source": []
  },
  {
   "cell_type": "markdown",
   "metadata": {
    "id": "7gzEe9WkWFuR"
   },
   "source": [
    "A partir del código siguiente se pide"
   ]
  },
  {
   "cell_type": "code",
   "execution_count": null,
   "metadata": {
    "id": "Lgpe8tyvWFuR"
   },
   "outputs": [],
   "source": [
    "import math\n",
    "\n",
    "class Shape(object):\n",
    "    \"\"\"A generic shape object.\"\"\"\n",
    "    \n",
    "    def area(self):\n",
    "        \"\"\"Return area of the shape.\"\"\"\n",
    "        pass\n",
    "    \n",
    "    def perimeter(self):\n",
    "        \"\"\"Return perimeter of the shape.\"\"\"\n",
    "        pass"
   ]
  },
  {
   "cell_type": "markdown",
   "metadata": {
    "id": "AH0yvPl9WFuR"
   },
   "source": [
    "Implementar las clases `Square`, `Rectangle` y  `Circle`, sobreescribiendo los métodos `area` y `perimeter` para que muestren los resultados correctos"
   ]
  },
  {
   "cell_type": "code",
   "execution_count": null,
   "metadata": {
    "id": "w1GFMkB_WFuR"
   },
   "outputs": [],
   "source": []
  },
  {
   "cell_type": "markdown",
   "metadata": {
    "id": "K8yPpQAjWFuS"
   },
   "source": [
    "Implementar las operaciones de suma, resta, y multiplicación, suponiendo que la suma, resta y multiplicación solo se puede realizar entre objetos del mismo tipo, y que la operación se realiza sobre sus dimensiones (es decir, la suma de dos círculos se realiza sumando sus radios de su circunferencia."
   ]
  },
  {
   "cell_type": "code",
   "execution_count": null,
   "metadata": {
    "id": "OpCHI6niWFuS"
   },
   "outputs": [],
   "source": []
  }
 ],
 "metadata": {
  "colab": {
   "collapsed_sections": [
    "plhrzog1WFtx",
    "dqfn3SZ5WFt3",
    "Fq8e2vMTWFuL",
    "CUedM047WFuN"
   ],
   "name": "2021I_GBI6_2.4_FuncionesModulos.ipynb",
   "provenance": []
  },
  "kernelspec": {
   "display_name": "Python 3 (ipykernel)",
   "language": "python",
   "name": "python3"
  },
  "language_info": {
   "codemirror_mode": {
    "name": "ipython",
    "version": 3
   },
   "file_extension": ".py",
   "mimetype": "text/x-python",
   "name": "python",
   "nbconvert_exporter": "python",
   "pygments_lexer": "ipython3",
   "version": "3.9.7"
  },
  "latex_envs": {
   "LaTeX_envs_menu_present": true,
   "autoclose": false,
   "autocomplete": true,
   "bibliofile": "biblio.bib",
   "cite_by": "apalike",
   "current_citInitial": 1,
   "eqLabelWithNumbers": true,
   "eqNumInitial": 1,
   "hotkeys": {
    "equation": "Ctrl-E",
    "itemize": "Ctrl-I"
   },
   "labels_anchors": false,
   "latex_user_defs": false,
   "report_style_numbering": false,
   "user_envs_cfg": false
  },
  "toc": {
   "base_numbering": 1,
   "nav_menu": {},
   "number_sections": true,
   "sideBar": true,
   "skip_h1_title": false,
   "title_cell": "Table of Contents",
   "title_sidebar": "Contents",
   "toc_cell": false,
   "toc_position": {},
   "toc_section_display": true,
   "toc_window_display": true
  },
  "varInspector": {
   "cols": {
    "lenName": 16,
    "lenType": 16,
    "lenVar": 40
   },
   "kernels_config": {
    "python": {
     "delete_cmd_postfix": "",
     "delete_cmd_prefix": "del ",
     "library": "var_list.py",
     "varRefreshCmd": "print(var_dic_list())"
    },
    "r": {
     "delete_cmd_postfix": ") ",
     "delete_cmd_prefix": "rm(",
     "library": "var_list.r",
     "varRefreshCmd": "cat(var_dic_list()) "
    }
   },
   "types_to_exclude": [
    "module",
    "function",
    "builtin_function_or_method",
    "instance",
    "_Feature"
   ],
   "window_display": false
  }
 },
 "nbformat": 4,
 "nbformat_minor": 1
}
